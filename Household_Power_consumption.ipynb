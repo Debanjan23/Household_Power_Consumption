{
 "cells": [
  {
   "cell_type": "markdown",
   "id": "c7631c64",
   "metadata": {},
   "source": [
    "## Dataset Information: \n",
    "\n",
    "### 1.(global_active_power*1000/60 - sub_metering_1 - sub_metering_2 - sub_metering_3) represents the active energy consumed every minute (in watt hour) in the household by electrical equipment not measured in sub-meterings 1, 2 and 3.\n",
    "\n",
    "### 2.The dataset contains some missing values in the measurements (nearly 1,25% of the rows). All calendar timestamps are present in the dataset but for some timestamps, the measurement values are missing: a missing value is represented by the absence of value between two consecutive semi-colon attribute separators. For instance, the dataset shows missing values on April 28, 2007."
   ]
  },
  {
   "cell_type": "markdown",
   "id": "1eb78895",
   "metadata": {},
   "source": [
    "## Attribute Information:\n",
    "\n",
    "#### 1.date: Date in format dd/mm/yyyy\n",
    "#### 2.time: time in format hh:mm:ss\n",
    "#### 3.global_active_power: household global minute-averaged active power (in kilowatt)\n",
    "#### 4.global_reactive_power: household global minute-averaged reactive power (in kilowatt)\n",
    "#### 5.voltage: minute-averaged voltage (in volt)\n",
    "#### 6.global_intensity: household global minute-averaged current intensity (in ampere)\n",
    "#### 7.sub_metering_1: energy sub-metering No. 1 (in watt-hour of active energy). It corresponds to the kitchen, containing mainly a dishwasher, an oven and a microwave (hot plates are not electric but gas powered).\n",
    "#### 8.sub_metering_2: energy sub-metering No. 2 (in watt-hour of active energy). It corresponds to the laundry room, containing a washing-machine, a tumble-drier, a refrigerator and a light.\n",
    "#### 9.sub_metering_3: energy sub-metering No. 3 (in watt-hour of active energy). It corresponds to an electric water-heater and an air-conditioner."
   ]
  },
  {
   "cell_type": "markdown",
   "id": "bced9d01",
   "metadata": {},
   "source": [
    "### importing libraries"
   ]
  },
  {
   "cell_type": "code",
   "execution_count": 1,
   "id": "ca96a724",
   "metadata": {},
   "outputs": [],
   "source": [
    "import pandas as ps\n",
    "import numpy as np"
   ]
  },
  {
   "cell_type": "markdown",
   "id": "e9cfc946",
   "metadata": {},
   "source": [
    "### Data ingestion"
   ]
  },
  {
   "cell_type": "code",
   "execution_count": 128,
   "id": "9f214a41",
   "metadata": {},
   "outputs": [
    {
     "name": "stderr",
     "output_type": "stream",
     "text": [
      "C:\\Users\\dchakrab.COMPUTACENTER\\AppData\\Local\\Temp\\ipykernel_18916\\937424890.py:1: DtypeWarning: Columns (2,3,4,5,6,7) have mixed types. Specify dtype option on import or set low_memory=False.\n",
      "  df = ps.read_csv(r'C:\\Users\\dchakrab.COMPUTACENTER\\Downloads\\household_power_consumption\\household_power_consumption.csv', sep = ';')\n"
     ]
    }
   ],
   "source": [
    "df = ps.read_csv(r'C:\\Users\\dchakrab.COMPUTACENTER\\Downloads\\household_power_consumption\\household_power_consumption.csv', sep = ';')"
   ]
  },
  {
   "cell_type": "code",
   "execution_count": 129,
   "id": "32aefe27",
   "metadata": {},
   "outputs": [
    {
     "data": {
      "text/html": [
       "<div>\n",
       "<style scoped>\n",
       "    .dataframe tbody tr th:only-of-type {\n",
       "        vertical-align: middle;\n",
       "    }\n",
       "\n",
       "    .dataframe tbody tr th {\n",
       "        vertical-align: top;\n",
       "    }\n",
       "\n",
       "    .dataframe thead th {\n",
       "        text-align: right;\n",
       "    }\n",
       "</style>\n",
       "<table border=\"1\" class=\"dataframe\">\n",
       "  <thead>\n",
       "    <tr style=\"text-align: right;\">\n",
       "      <th></th>\n",
       "      <th>Date</th>\n",
       "      <th>Time</th>\n",
       "      <th>Global_active_power</th>\n",
       "      <th>Global_reactive_power</th>\n",
       "      <th>Voltage</th>\n",
       "      <th>Global_intensity</th>\n",
       "      <th>Sub_metering_1</th>\n",
       "      <th>Sub_metering_2</th>\n",
       "      <th>Sub_metering_3</th>\n",
       "    </tr>\n",
       "  </thead>\n",
       "  <tbody>\n",
       "    <tr>\n",
       "      <th>0</th>\n",
       "      <td>16/12/2006</td>\n",
       "      <td>17:24:00</td>\n",
       "      <td>4.216</td>\n",
       "      <td>0.418</td>\n",
       "      <td>234.840</td>\n",
       "      <td>18.400</td>\n",
       "      <td>0.000</td>\n",
       "      <td>1.000</td>\n",
       "      <td>17.0</td>\n",
       "    </tr>\n",
       "    <tr>\n",
       "      <th>1</th>\n",
       "      <td>16/12/2006</td>\n",
       "      <td>17:25:00</td>\n",
       "      <td>5.360</td>\n",
       "      <td>0.436</td>\n",
       "      <td>233.630</td>\n",
       "      <td>23.000</td>\n",
       "      <td>0.000</td>\n",
       "      <td>1.000</td>\n",
       "      <td>16.0</td>\n",
       "    </tr>\n",
       "    <tr>\n",
       "      <th>2</th>\n",
       "      <td>16/12/2006</td>\n",
       "      <td>17:26:00</td>\n",
       "      <td>5.374</td>\n",
       "      <td>0.498</td>\n",
       "      <td>233.290</td>\n",
       "      <td>23.000</td>\n",
       "      <td>0.000</td>\n",
       "      <td>2.000</td>\n",
       "      <td>17.0</td>\n",
       "    </tr>\n",
       "    <tr>\n",
       "      <th>3</th>\n",
       "      <td>16/12/2006</td>\n",
       "      <td>17:27:00</td>\n",
       "      <td>5.388</td>\n",
       "      <td>0.502</td>\n",
       "      <td>233.740</td>\n",
       "      <td>23.000</td>\n",
       "      <td>0.000</td>\n",
       "      <td>1.000</td>\n",
       "      <td>17.0</td>\n",
       "    </tr>\n",
       "    <tr>\n",
       "      <th>4</th>\n",
       "      <td>16/12/2006</td>\n",
       "      <td>17:28:00</td>\n",
       "      <td>3.666</td>\n",
       "      <td>0.528</td>\n",
       "      <td>235.680</td>\n",
       "      <td>15.800</td>\n",
       "      <td>0.000</td>\n",
       "      <td>1.000</td>\n",
       "      <td>17.0</td>\n",
       "    </tr>\n",
       "  </tbody>\n",
       "</table>\n",
       "</div>"
      ],
      "text/plain": [
       "         Date      Time Global_active_power Global_reactive_power  Voltage  \\\n",
       "0  16/12/2006  17:24:00               4.216                 0.418  234.840   \n",
       "1  16/12/2006  17:25:00               5.360                 0.436  233.630   \n",
       "2  16/12/2006  17:26:00               5.374                 0.498  233.290   \n",
       "3  16/12/2006  17:27:00               5.388                 0.502  233.740   \n",
       "4  16/12/2006  17:28:00               3.666                 0.528  235.680   \n",
       "\n",
       "  Global_intensity Sub_metering_1 Sub_metering_2  Sub_metering_3  \n",
       "0           18.400          0.000          1.000            17.0  \n",
       "1           23.000          0.000          1.000            16.0  \n",
       "2           23.000          0.000          2.000            17.0  \n",
       "3           23.000          0.000          1.000            17.0  \n",
       "4           15.800          0.000          1.000            17.0  "
      ]
     },
     "execution_count": 129,
     "metadata": {},
     "output_type": "execute_result"
    }
   ],
   "source": [
    "df.head()"
   ]
  },
  {
   "cell_type": "markdown",
   "id": "3afee145",
   "metadata": {},
   "source": [
    "### Checking duplicated value"
   ]
  },
  {
   "cell_type": "code",
   "execution_count": 130,
   "id": "d2b74e23",
   "metadata": {},
   "outputs": [
    {
     "data": {
      "text/plain": [
       "0"
      ]
     },
     "execution_count": 130,
     "metadata": {},
     "output_type": "execute_result"
    }
   ],
   "source": [
    "df.duplicated().sum()"
   ]
  },
  {
   "cell_type": "markdown",
   "id": "04f63fb7",
   "metadata": {},
   "source": [
    "### There is no duplicated value in the dataset"
   ]
  },
  {
   "cell_type": "code",
   "execution_count": 131,
   "id": "36f6e989",
   "metadata": {},
   "outputs": [
    {
     "name": "stdout",
     "output_type": "stream",
     "text": [
      "<class 'pandas.core.frame.DataFrame'>\n",
      "RangeIndex: 2075259 entries, 0 to 2075258\n",
      "Data columns (total 9 columns):\n",
      " #   Column                 Dtype  \n",
      "---  ------                 -----  \n",
      " 0   Date                   object \n",
      " 1   Time                   object \n",
      " 2   Global_active_power    object \n",
      " 3   Global_reactive_power  object \n",
      " 4   Voltage                object \n",
      " 5   Global_intensity       object \n",
      " 6   Sub_metering_1         object \n",
      " 7   Sub_metering_2         object \n",
      " 8   Sub_metering_3         float64\n",
      "dtypes: float64(1), object(8)\n",
      "memory usage: 142.5+ MB\n"
     ]
    }
   ],
   "source": [
    "df.info()"
   ]
  },
  {
   "cell_type": "markdown",
   "id": "378a106b",
   "metadata": {},
   "source": [
    "### As we have seen that in this dataset we have 20,75,259 rows so then we can take a sample of dataset from it and work on it."
   ]
  },
  {
   "cell_type": "code",
   "execution_count": 132,
   "id": "6e49da3f",
   "metadata": {},
   "outputs": [],
   "source": [
    "df = df.sample(n=50000, random_state=200, ignore_index=True)"
   ]
  },
  {
   "cell_type": "markdown",
   "id": "0b535744",
   "metadata": {},
   "source": [
    "### checking for null values"
   ]
  },
  {
   "cell_type": "code",
   "execution_count": 133,
   "id": "a6993387",
   "metadata": {},
   "outputs": [
    {
     "data": {
      "text/plain": [
       "Date                       0\n",
       "Time                       0\n",
       "Global_active_power        0\n",
       "Global_reactive_power      0\n",
       "Voltage                    0\n",
       "Global_intensity           0\n",
       "Sub_metering_1             0\n",
       "Sub_metering_2             0\n",
       "Sub_metering_3           632\n",
       "dtype: int64"
      ]
     },
     "execution_count": 133,
     "metadata": {},
     "output_type": "execute_result"
    }
   ],
   "source": [
    "df.isnull().sum()"
   ]
  },
  {
   "cell_type": "markdown",
   "id": "8811ed77",
   "metadata": {},
   "source": [
    "#### We can see that Sub_metering_3 has 632 missing values or null values and we need to handle those missing values.\n",
    "#### We can fill the null values with the mean values."
   ]
  },
  {
   "cell_type": "code",
   "execution_count": 8,
   "id": "9bda52f8",
   "metadata": {},
   "outputs": [],
   "source": [
    "df['Sub_metering_3'].fillna(value = df['Sub_metering_3'].mean(), inplace = True)"
   ]
  },
  {
   "cell_type": "code",
   "execution_count": 13,
   "id": "3f6c68b2",
   "metadata": {},
   "outputs": [],
   "source": [
    "## checking for null values now"
   ]
  },
  {
   "cell_type": "code",
   "execution_count": 9,
   "id": "78e8c048",
   "metadata": {},
   "outputs": [
    {
     "data": {
      "text/plain": [
       "Date                     0\n",
       "Time                     0\n",
       "Global_active_power      0\n",
       "Global_reactive_power    0\n",
       "Voltage                  0\n",
       "Global_intensity         0\n",
       "Sub_metering_1           0\n",
       "Sub_metering_2           0\n",
       "Sub_metering_3           0\n",
       "dtype: int64"
      ]
     },
     "execution_count": 9,
     "metadata": {},
     "output_type": "execute_result"
    }
   ],
   "source": [
    "df.isnull().sum()"
   ]
  },
  {
   "cell_type": "code",
   "execution_count": 143,
   "id": "cf7abe06",
   "metadata": {},
   "outputs": [],
   "source": [
    "### There is some impurate value. We replace it with '0' so that it will not disturb \n",
    "df.replace(['?', np.nan], '0', inplace=True)"
   ]
  },
  {
   "cell_type": "code",
   "execution_count": 11,
   "id": "b877ffd2",
   "metadata": {},
   "outputs": [
    {
     "data": {
      "text/html": [
       "<div>\n",
       "<style scoped>\n",
       "    .dataframe tbody tr th:only-of-type {\n",
       "        vertical-align: middle;\n",
       "    }\n",
       "\n",
       "    .dataframe tbody tr th {\n",
       "        vertical-align: top;\n",
       "    }\n",
       "\n",
       "    .dataframe thead th {\n",
       "        text-align: right;\n",
       "    }\n",
       "</style>\n",
       "<table border=\"1\" class=\"dataframe\">\n",
       "  <thead>\n",
       "    <tr style=\"text-align: right;\">\n",
       "      <th></th>\n",
       "      <th>Date</th>\n",
       "      <th>Time</th>\n",
       "      <th>Global_active_power</th>\n",
       "      <th>Global_reactive_power</th>\n",
       "      <th>Voltage</th>\n",
       "      <th>Global_intensity</th>\n",
       "      <th>Sub_metering_1</th>\n",
       "      <th>Sub_metering_2</th>\n",
       "      <th>Sub_metering_3</th>\n",
       "    </tr>\n",
       "  </thead>\n",
       "  <tbody>\n",
       "    <tr>\n",
       "      <th>0</th>\n",
       "      <td>27/7/2007</td>\n",
       "      <td>10:25:00</td>\n",
       "      <td>0.196</td>\n",
       "      <td>0.074</td>\n",
       "      <td>234.170</td>\n",
       "      <td>0.800</td>\n",
       "      <td>0.000</td>\n",
       "      <td>0.000</td>\n",
       "      <td>0.0</td>\n",
       "    </tr>\n",
       "    <tr>\n",
       "      <th>1</th>\n",
       "      <td>28/8/2010</td>\n",
       "      <td>18:07:00</td>\n",
       "      <td>1.262</td>\n",
       "      <td>0.054</td>\n",
       "      <td>241.420</td>\n",
       "      <td>5.200</td>\n",
       "      <td>0.000</td>\n",
       "      <td>0.000</td>\n",
       "      <td>18.0</td>\n",
       "    </tr>\n",
       "    <tr>\n",
       "      <th>2</th>\n",
       "      <td>30/9/2008</td>\n",
       "      <td>00:48:00</td>\n",
       "      <td>0.344</td>\n",
       "      <td>0.076</td>\n",
       "      <td>242.460</td>\n",
       "      <td>1.600</td>\n",
       "      <td>0.000</td>\n",
       "      <td>0.000</td>\n",
       "      <td>0.0</td>\n",
       "    </tr>\n",
       "    <tr>\n",
       "      <th>3</th>\n",
       "      <td>12/10/2009</td>\n",
       "      <td>06:54:00</td>\n",
       "      <td>2.672</td>\n",
       "      <td>0.000</td>\n",
       "      <td>238.840</td>\n",
       "      <td>11.400</td>\n",
       "      <td>0.000</td>\n",
       "      <td>0.000</td>\n",
       "      <td>18.0</td>\n",
       "    </tr>\n",
       "    <tr>\n",
       "      <th>4</th>\n",
       "      <td>10/1/2010</td>\n",
       "      <td>23:56:00</td>\n",
       "      <td>0.254</td>\n",
       "      <td>0.000</td>\n",
       "      <td>250.220</td>\n",
       "      <td>1.000</td>\n",
       "      <td>0.000</td>\n",
       "      <td>0.000</td>\n",
       "      <td>0.0</td>\n",
       "    </tr>\n",
       "  </tbody>\n",
       "</table>\n",
       "</div>"
      ],
      "text/plain": [
       "         Date      Time Global_active_power Global_reactive_power  Voltage  \\\n",
       "0   27/7/2007  10:25:00               0.196                 0.074  234.170   \n",
       "1   28/8/2010  18:07:00               1.262                 0.054  241.420   \n",
       "2   30/9/2008  00:48:00               0.344                 0.076  242.460   \n",
       "3  12/10/2009  06:54:00               2.672                 0.000  238.840   \n",
       "4   10/1/2010  23:56:00               0.254                 0.000  250.220   \n",
       "\n",
       "  Global_intensity Sub_metering_1 Sub_metering_2  Sub_metering_3  \n",
       "0            0.800          0.000          0.000             0.0  \n",
       "1            5.200          0.000          0.000            18.0  \n",
       "2            1.600          0.000          0.000             0.0  \n",
       "3           11.400          0.000          0.000            18.0  \n",
       "4            1.000          0.000          0.000             0.0  "
      ]
     },
     "execution_count": 11,
     "metadata": {},
     "output_type": "execute_result"
    }
   ],
   "source": [
    "df.head()"
   ]
  },
  {
   "cell_type": "code",
   "execution_count": 137,
   "id": "9b1160d7",
   "metadata": {},
   "outputs": [
    {
     "name": "stderr",
     "output_type": "stream",
     "text": [
      "C:\\Users\\dchakrab.COMPUTACENTER\\AppData\\Local\\Temp\\ipykernel_18916\\2729677711.py:1: UserWarning: Parsing '29/10/2009' in DD/MM/YYYY format. Provide format or specify infer_datetime_format=True for consistent parsing.\n",
      "  df['Date']=ps.to_datetime(df['Date'])\n",
      "C:\\Users\\dchakrab.COMPUTACENTER\\AppData\\Local\\Temp\\ipykernel_18916\\2729677711.py:1: UserWarning: Parsing '13/11/2007' in DD/MM/YYYY format. Provide format or specify infer_datetime_format=True for consistent parsing.\n",
      "  df['Date']=ps.to_datetime(df['Date'])\n",
      "C:\\Users\\dchakrab.COMPUTACENTER\\AppData\\Local\\Temp\\ipykernel_18916\\2729677711.py:1: UserWarning: Parsing '17/10/2009' in DD/MM/YYYY format. Provide format or specify infer_datetime_format=True for consistent parsing.\n",
      "  df['Date']=ps.to_datetime(df['Date'])\n",
      "C:\\Users\\dchakrab.COMPUTACENTER\\AppData\\Local\\Temp\\ipykernel_18916\\2729677711.py:1: UserWarning: Parsing '30/11/2007' in DD/MM/YYYY format. Provide format or specify infer_datetime_format=True for consistent parsing.\n",
      "  df['Date']=ps.to_datetime(df['Date'])\n",
      "C:\\Users\\dchakrab.COMPUTACENTER\\AppData\\Local\\Temp\\ipykernel_18916\\2729677711.py:1: UserWarning: Parsing '28/10/2007' in DD/MM/YYYY format. Provide format or specify infer_datetime_format=True for consistent parsing.\n",
      "  df['Date']=ps.to_datetime(df['Date'])\n",
      "C:\\Users\\dchakrab.COMPUTACENTER\\AppData\\Local\\Temp\\ipykernel_18916\\2729677711.py:1: UserWarning: Parsing '26/12/2009' in DD/MM/YYYY format. Provide format or specify infer_datetime_format=True for consistent parsing.\n",
      "  df['Date']=ps.to_datetime(df['Date'])\n",
      "C:\\Users\\dchakrab.COMPUTACENTER\\AppData\\Local\\Temp\\ipykernel_18916\\2729677711.py:1: UserWarning: Parsing '21/10/2008' in DD/MM/YYYY format. Provide format or specify infer_datetime_format=True for consistent parsing.\n",
      "  df['Date']=ps.to_datetime(df['Date'])\n",
      "C:\\Users\\dchakrab.COMPUTACENTER\\AppData\\Local\\Temp\\ipykernel_18916\\2729677711.py:1: UserWarning: Parsing '18/12/2009' in DD/MM/YYYY format. Provide format or specify infer_datetime_format=True for consistent parsing.\n",
      "  df['Date']=ps.to_datetime(df['Date'])\n",
      "C:\\Users\\dchakrab.COMPUTACENTER\\AppData\\Local\\Temp\\ipykernel_18916\\2729677711.py:1: UserWarning: Parsing '28/10/2009' in DD/MM/YYYY format. Provide format or specify infer_datetime_format=True for consistent parsing.\n",
      "  df['Date']=ps.to_datetime(df['Date'])\n",
      "C:\\Users\\dchakrab.COMPUTACENTER\\AppData\\Local\\Temp\\ipykernel_18916\\2729677711.py:1: UserWarning: Parsing '23/12/2007' in DD/MM/YYYY format. Provide format or specify infer_datetime_format=True for consistent parsing.\n",
      "  df['Date']=ps.to_datetime(df['Date'])\n",
      "C:\\Users\\dchakrab.COMPUTACENTER\\AppData\\Local\\Temp\\ipykernel_18916\\2729677711.py:1: UserWarning: Parsing '25/10/2007' in DD/MM/YYYY format. Provide format or specify infer_datetime_format=True for consistent parsing.\n",
      "  df['Date']=ps.to_datetime(df['Date'])\n",
      "C:\\Users\\dchakrab.COMPUTACENTER\\AppData\\Local\\Temp\\ipykernel_18916\\2729677711.py:1: UserWarning: Parsing '23/11/2007' in DD/MM/YYYY format. Provide format or specify infer_datetime_format=True for consistent parsing.\n",
      "  df['Date']=ps.to_datetime(df['Date'])\n",
      "C:\\Users\\dchakrab.COMPUTACENTER\\AppData\\Local\\Temp\\ipykernel_18916\\2729677711.py:1: UserWarning: Parsing '13/12/2009' in DD/MM/YYYY format. Provide format or specify infer_datetime_format=True for consistent parsing.\n",
      "  df['Date']=ps.to_datetime(df['Date'])\n",
      "C:\\Users\\dchakrab.COMPUTACENTER\\AppData\\Local\\Temp\\ipykernel_18916\\2729677711.py:1: UserWarning: Parsing '24/12/2007' in DD/MM/YYYY format. Provide format or specify infer_datetime_format=True for consistent parsing.\n",
      "  df['Date']=ps.to_datetime(df['Date'])\n",
      "C:\\Users\\dchakrab.COMPUTACENTER\\AppData\\Local\\Temp\\ipykernel_18916\\2729677711.py:1: UserWarning: Parsing '21/12/2009' in DD/MM/YYYY format. Provide format or specify infer_datetime_format=True for consistent parsing.\n",
      "  df['Date']=ps.to_datetime(df['Date'])\n",
      "C:\\Users\\dchakrab.COMPUTACENTER\\AppData\\Local\\Temp\\ipykernel_18916\\2729677711.py:1: UserWarning: Parsing '25/11/2009' in DD/MM/YYYY format. Provide format or specify infer_datetime_format=True for consistent parsing.\n",
      "  df['Date']=ps.to_datetime(df['Date'])\n",
      "C:\\Users\\dchakrab.COMPUTACENTER\\AppData\\Local\\Temp\\ipykernel_18916\\2729677711.py:1: UserWarning: Parsing '14/10/2008' in DD/MM/YYYY format. Provide format or specify infer_datetime_format=True for consistent parsing.\n",
      "  df['Date']=ps.to_datetime(df['Date'])\n",
      "C:\\Users\\dchakrab.COMPUTACENTER\\AppData\\Local\\Temp\\ipykernel_18916\\2729677711.py:1: UserWarning: Parsing '30/12/2006' in DD/MM/YYYY format. Provide format or specify infer_datetime_format=True for consistent parsing.\n",
      "  df['Date']=ps.to_datetime(df['Date'])\n",
      "C:\\Users\\dchakrab.COMPUTACENTER\\AppData\\Local\\Temp\\ipykernel_18916\\2729677711.py:1: UserWarning: Parsing '19/11/2010' in DD/MM/YYYY format. Provide format or specify infer_datetime_format=True for consistent parsing.\n",
      "  df['Date']=ps.to_datetime(df['Date'])\n",
      "C:\\Users\\dchakrab.COMPUTACENTER\\AppData\\Local\\Temp\\ipykernel_18916\\2729677711.py:1: UserWarning: Parsing '24/10/2010' in DD/MM/YYYY format. Provide format or specify infer_datetime_format=True for consistent parsing.\n",
      "  df['Date']=ps.to_datetime(df['Date'])\n",
      "C:\\Users\\dchakrab.COMPUTACENTER\\AppData\\Local\\Temp\\ipykernel_18916\\2729677711.py:1: UserWarning: Parsing '13/11/2009' in DD/MM/YYYY format. Provide format or specify infer_datetime_format=True for consistent parsing.\n",
      "  df['Date']=ps.to_datetime(df['Date'])\n",
      "C:\\Users\\dchakrab.COMPUTACENTER\\AppData\\Local\\Temp\\ipykernel_18916\\2729677711.py:1: UserWarning: Parsing '16/11/2010' in DD/MM/YYYY format. Provide format or specify infer_datetime_format=True for consistent parsing.\n",
      "  df['Date']=ps.to_datetime(df['Date'])\n",
      "C:\\Users\\dchakrab.COMPUTACENTER\\AppData\\Local\\Temp\\ipykernel_18916\\2729677711.py:1: UserWarning: Parsing '17/10/2010' in DD/MM/YYYY format. Provide format or specify infer_datetime_format=True for consistent parsing.\n",
      "  df['Date']=ps.to_datetime(df['Date'])\n",
      "C:\\Users\\dchakrab.COMPUTACENTER\\AppData\\Local\\Temp\\ipykernel_18916\\2729677711.py:1: UserWarning: Parsing '14/11/2007' in DD/MM/YYYY format. Provide format or specify infer_datetime_format=True for consistent parsing.\n",
      "  df['Date']=ps.to_datetime(df['Date'])\n",
      "C:\\Users\\dchakrab.COMPUTACENTER\\AppData\\Local\\Temp\\ipykernel_18916\\2729677711.py:1: UserWarning: Parsing '26/10/2009' in DD/MM/YYYY format. Provide format or specify infer_datetime_format=True for consistent parsing.\n",
      "  df['Date']=ps.to_datetime(df['Date'])\n",
      "C:\\Users\\dchakrab.COMPUTACENTER\\AppData\\Local\\Temp\\ipykernel_18916\\2729677711.py:1: UserWarning: Parsing '15/10/2008' in DD/MM/YYYY format. Provide format or specify infer_datetime_format=True for consistent parsing.\n",
      "  df['Date']=ps.to_datetime(df['Date'])\n",
      "C:\\Users\\dchakrab.COMPUTACENTER\\AppData\\Local\\Temp\\ipykernel_18916\\2729677711.py:1: UserWarning: Parsing '15/10/2010' in DD/MM/YYYY format. Provide format or specify infer_datetime_format=True for consistent parsing.\n",
      "  df['Date']=ps.to_datetime(df['Date'])\n",
      "C:\\Users\\dchakrab.COMPUTACENTER\\AppData\\Local\\Temp\\ipykernel_18916\\2729677711.py:1: UserWarning: Parsing '24/10/2009' in DD/MM/YYYY format. Provide format or specify infer_datetime_format=True for consistent parsing.\n",
      "  df['Date']=ps.to_datetime(df['Date'])\n",
      "C:\\Users\\dchakrab.COMPUTACENTER\\AppData\\Local\\Temp\\ipykernel_18916\\2729677711.py:1: UserWarning: Parsing '29/11/2009' in DD/MM/YYYY format. Provide format or specify infer_datetime_format=True for consistent parsing.\n",
      "  df['Date']=ps.to_datetime(df['Date'])\n",
      "C:\\Users\\dchakrab.COMPUTACENTER\\AppData\\Local\\Temp\\ipykernel_18916\\2729677711.py:1: UserWarning: Parsing '13/10/2007' in DD/MM/YYYY format. Provide format or specify infer_datetime_format=True for consistent parsing.\n",
      "  df['Date']=ps.to_datetime(df['Date'])\n",
      "C:\\Users\\dchakrab.COMPUTACENTER\\AppData\\Local\\Temp\\ipykernel_18916\\2729677711.py:1: UserWarning: Parsing '15/12/2008' in DD/MM/YYYY format. Provide format or specify infer_datetime_format=True for consistent parsing.\n",
      "  df['Date']=ps.to_datetime(df['Date'])\n",
      "C:\\Users\\dchakrab.COMPUTACENTER\\AppData\\Local\\Temp\\ipykernel_18916\\2729677711.py:1: UserWarning: Parsing '23/12/2009' in DD/MM/YYYY format. Provide format or specify infer_datetime_format=True for consistent parsing.\n",
      "  df['Date']=ps.to_datetime(df['Date'])\n",
      "C:\\Users\\dchakrab.COMPUTACENTER\\AppData\\Local\\Temp\\ipykernel_18916\\2729677711.py:1: UserWarning: Parsing '14/10/2009' in DD/MM/YYYY format. Provide format or specify infer_datetime_format=True for consistent parsing.\n",
      "  df['Date']=ps.to_datetime(df['Date'])\n",
      "C:\\Users\\dchakrab.COMPUTACENTER\\AppData\\Local\\Temp\\ipykernel_18916\\2729677711.py:1: UserWarning: Parsing '13/12/2007' in DD/MM/YYYY format. Provide format or specify infer_datetime_format=True for consistent parsing.\n",
      "  df['Date']=ps.to_datetime(df['Date'])\n",
      "C:\\Users\\dchakrab.COMPUTACENTER\\AppData\\Local\\Temp\\ipykernel_18916\\2729677711.py:1: UserWarning: Parsing '13/10/2010' in DD/MM/YYYY format. Provide format or specify infer_datetime_format=True for consistent parsing.\n",
      "  df['Date']=ps.to_datetime(df['Date'])\n",
      "C:\\Users\\dchakrab.COMPUTACENTER\\AppData\\Local\\Temp\\ipykernel_18916\\2729677711.py:1: UserWarning: Parsing '28/12/2006' in DD/MM/YYYY format. Provide format or specify infer_datetime_format=True for consistent parsing.\n",
      "  df['Date']=ps.to_datetime(df['Date'])\n",
      "C:\\Users\\dchakrab.COMPUTACENTER\\AppData\\Local\\Temp\\ipykernel_18916\\2729677711.py:1: UserWarning: Parsing '22/10/2007' in DD/MM/YYYY format. Provide format or specify infer_datetime_format=True for consistent parsing.\n",
      "  df['Date']=ps.to_datetime(df['Date'])\n",
      "C:\\Users\\dchakrab.COMPUTACENTER\\AppData\\Local\\Temp\\ipykernel_18916\\2729677711.py:1: UserWarning: Parsing '14/10/2007' in DD/MM/YYYY format. Provide format or specify infer_datetime_format=True for consistent parsing.\n",
      "  df['Date']=ps.to_datetime(df['Date'])\n",
      "C:\\Users\\dchakrab.COMPUTACENTER\\AppData\\Local\\Temp\\ipykernel_18916\\2729677711.py:1: UserWarning: Parsing '25/10/2009' in DD/MM/YYYY format. Provide format or specify infer_datetime_format=True for consistent parsing.\n",
      "  df['Date']=ps.to_datetime(df['Date'])\n",
      "C:\\Users\\dchakrab.COMPUTACENTER\\AppData\\Local\\Temp\\ipykernel_18916\\2729677711.py:1: UserWarning: Parsing '16/11/2009' in DD/MM/YYYY format. Provide format or specify infer_datetime_format=True for consistent parsing.\n",
      "  df['Date']=ps.to_datetime(df['Date'])\n",
      "C:\\Users\\dchakrab.COMPUTACENTER\\AppData\\Local\\Temp\\ipykernel_18916\\2729677711.py:1: UserWarning: Parsing '27/11/2007' in DD/MM/YYYY format. Provide format or specify infer_datetime_format=True for consistent parsing.\n",
      "  df['Date']=ps.to_datetime(df['Date'])\n",
      "C:\\Users\\dchakrab.COMPUTACENTER\\AppData\\Local\\Temp\\ipykernel_18916\\2729677711.py:1: UserWarning: Parsing '14/11/2010' in DD/MM/YYYY format. Provide format or specify infer_datetime_format=True for consistent parsing.\n",
      "  df['Date']=ps.to_datetime(df['Date'])\n",
      "C:\\Users\\dchakrab.COMPUTACENTER\\AppData\\Local\\Temp\\ipykernel_18916\\2729677711.py:1: UserWarning: Parsing '19/10/2008' in DD/MM/YYYY format. Provide format or specify infer_datetime_format=True for consistent parsing.\n",
      "  df['Date']=ps.to_datetime(df['Date'])\n",
      "C:\\Users\\dchakrab.COMPUTACENTER\\AppData\\Local\\Temp\\ipykernel_18916\\2729677711.py:1: UserWarning: Parsing '25/12/2008' in DD/MM/YYYY format. Provide format or specify infer_datetime_format=True for consistent parsing.\n",
      "  df['Date']=ps.to_datetime(df['Date'])\n",
      "C:\\Users\\dchakrab.COMPUTACENTER\\AppData\\Local\\Temp\\ipykernel_18916\\2729677711.py:1: UserWarning: Parsing '24/11/2007' in DD/MM/YYYY format. Provide format or specify infer_datetime_format=True for consistent parsing.\n",
      "  df['Date']=ps.to_datetime(df['Date'])\n",
      "C:\\Users\\dchakrab.COMPUTACENTER\\AppData\\Local\\Temp\\ipykernel_18916\\2729677711.py:1: UserWarning: Parsing '22/12/2008' in DD/MM/YYYY format. Provide format or specify infer_datetime_format=True for consistent parsing.\n",
      "  df['Date']=ps.to_datetime(df['Date'])\n",
      "C:\\Users\\dchakrab.COMPUTACENTER\\AppData\\Local\\Temp\\ipykernel_18916\\2729677711.py:1: UserWarning: Parsing '28/10/2008' in DD/MM/YYYY format. Provide format or specify infer_datetime_format=True for consistent parsing.\n",
      "  df['Date']=ps.to_datetime(df['Date'])\n",
      "C:\\Users\\dchakrab.COMPUTACENTER\\AppData\\Local\\Temp\\ipykernel_18916\\2729677711.py:1: UserWarning: Parsing '20/12/2008' in DD/MM/YYYY format. Provide format or specify infer_datetime_format=True for consistent parsing.\n",
      "  df['Date']=ps.to_datetime(df['Date'])\n",
      "C:\\Users\\dchakrab.COMPUTACENTER\\AppData\\Local\\Temp\\ipykernel_18916\\2729677711.py:1: UserWarning: Parsing '28/12/2009' in DD/MM/YYYY format. Provide format or specify infer_datetime_format=True for consistent parsing.\n",
      "  df['Date']=ps.to_datetime(df['Date'])\n",
      "C:\\Users\\dchakrab.COMPUTACENTER\\AppData\\Local\\Temp\\ipykernel_18916\\2729677711.py:1: UserWarning: Parsing '25/11/2010' in DD/MM/YYYY format. Provide format or specify infer_datetime_format=True for consistent parsing.\n",
      "  df['Date']=ps.to_datetime(df['Date'])\n",
      "C:\\Users\\dchakrab.COMPUTACENTER\\AppData\\Local\\Temp\\ipykernel_18916\\2729677711.py:1: UserWarning: Parsing '26/12/2008' in DD/MM/YYYY format. Provide format or specify infer_datetime_format=True for consistent parsing.\n",
      "  df['Date']=ps.to_datetime(df['Date'])\n",
      "C:\\Users\\dchakrab.COMPUTACENTER\\AppData\\Local\\Temp\\ipykernel_18916\\2729677711.py:1: UserWarning: Parsing '24/12/2008' in DD/MM/YYYY format. Provide format or specify infer_datetime_format=True for consistent parsing.\n",
      "  df['Date']=ps.to_datetime(df['Date'])\n",
      "C:\\Users\\dchakrab.COMPUTACENTER\\AppData\\Local\\Temp\\ipykernel_18916\\2729677711.py:1: UserWarning: Parsing '24/11/2010' in DD/MM/YYYY format. Provide format or specify infer_datetime_format=True for consistent parsing.\n",
      "  df['Date']=ps.to_datetime(df['Date'])\n",
      "C:\\Users\\dchakrab.COMPUTACENTER\\AppData\\Local\\Temp\\ipykernel_18916\\2729677711.py:1: UserWarning: Parsing '20/12/2007' in DD/MM/YYYY format. Provide format or specify infer_datetime_format=True for consistent parsing.\n",
      "  df['Date']=ps.to_datetime(df['Date'])\n",
      "C:\\Users\\dchakrab.COMPUTACENTER\\AppData\\Local\\Temp\\ipykernel_18916\\2729677711.py:1: UserWarning: Parsing '30/10/2010' in DD/MM/YYYY format. Provide format or specify infer_datetime_format=True for consistent parsing.\n",
      "  df['Date']=ps.to_datetime(df['Date'])\n",
      "C:\\Users\\dchakrab.COMPUTACENTER\\AppData\\Local\\Temp\\ipykernel_18916\\2729677711.py:1: UserWarning: Parsing '26/10/2008' in DD/MM/YYYY format. Provide format or specify infer_datetime_format=True for consistent parsing.\n",
      "  df['Date']=ps.to_datetime(df['Date'])\n",
      "C:\\Users\\dchakrab.COMPUTACENTER\\AppData\\Local\\Temp\\ipykernel_18916\\2729677711.py:1: UserWarning: Parsing '23/11/2009' in DD/MM/YYYY format. Provide format or specify infer_datetime_format=True for consistent parsing.\n",
      "  df['Date']=ps.to_datetime(df['Date'])\n",
      "C:\\Users\\dchakrab.COMPUTACENTER\\AppData\\Local\\Temp\\ipykernel_18916\\2729677711.py:1: UserWarning: Parsing '27/12/2006' in DD/MM/YYYY format. Provide format or specify infer_datetime_format=True for consistent parsing.\n",
      "  df['Date']=ps.to_datetime(df['Date'])\n",
      "C:\\Users\\dchakrab.COMPUTACENTER\\AppData\\Local\\Temp\\ipykernel_18916\\2729677711.py:1: UserWarning: Parsing '28/12/2007' in DD/MM/YYYY format. Provide format or specify infer_datetime_format=True for consistent parsing.\n",
      "  df['Date']=ps.to_datetime(df['Date'])\n",
      "C:\\Users\\dchakrab.COMPUTACENTER\\AppData\\Local\\Temp\\ipykernel_18916\\2729677711.py:1: UserWarning: Parsing '21/11/2008' in DD/MM/YYYY format. Provide format or specify infer_datetime_format=True for consistent parsing.\n",
      "  df['Date']=ps.to_datetime(df['Date'])\n",
      "C:\\Users\\dchakrab.COMPUTACENTER\\AppData\\Local\\Temp\\ipykernel_18916\\2729677711.py:1: UserWarning: Parsing '22/11/2008' in DD/MM/YYYY format. Provide format or specify infer_datetime_format=True for consistent parsing.\n",
      "  df['Date']=ps.to_datetime(df['Date'])\n",
      "C:\\Users\\dchakrab.COMPUTACENTER\\AppData\\Local\\Temp\\ipykernel_18916\\2729677711.py:1: UserWarning: Parsing '29/12/2007' in DD/MM/YYYY format. Provide format or specify infer_datetime_format=True for consistent parsing.\n",
      "  df['Date']=ps.to_datetime(df['Date'])\n",
      "C:\\Users\\dchakrab.COMPUTACENTER\\AppData\\Local\\Temp\\ipykernel_18916\\2729677711.py:1: UserWarning: Parsing '15/11/2008' in DD/MM/YYYY format. Provide format or specify infer_datetime_format=True for consistent parsing.\n",
      "  df['Date']=ps.to_datetime(df['Date'])\n",
      "C:\\Users\\dchakrab.COMPUTACENTER\\AppData\\Local\\Temp\\ipykernel_18916\\2729677711.py:1: UserWarning: Parsing '21/12/2007' in DD/MM/YYYY format. Provide format or specify infer_datetime_format=True for consistent parsing.\n",
      "  df['Date']=ps.to_datetime(df['Date'])\n",
      "C:\\Users\\dchakrab.COMPUTACENTER\\AppData\\Local\\Temp\\ipykernel_18916\\2729677711.py:1: UserWarning: Parsing '30/12/2008' in DD/MM/YYYY format. Provide format or specify infer_datetime_format=True for consistent parsing.\n",
      "  df['Date']=ps.to_datetime(df['Date'])\n",
      "C:\\Users\\dchakrab.COMPUTACENTER\\AppData\\Local\\Temp\\ipykernel_18916\\2729677711.py:1: UserWarning: Parsing '26/10/2007' in DD/MM/YYYY format. Provide format or specify infer_datetime_format=True for consistent parsing.\n",
      "  df['Date']=ps.to_datetime(df['Date'])\n",
      "C:\\Users\\dchakrab.COMPUTACENTER\\AppData\\Local\\Temp\\ipykernel_18916\\2729677711.py:1: UserWarning: Parsing '28/10/2010' in DD/MM/YYYY format. Provide format or specify infer_datetime_format=True for consistent parsing.\n",
      "  df['Date']=ps.to_datetime(df['Date'])\n",
      "C:\\Users\\dchakrab.COMPUTACENTER\\AppData\\Local\\Temp\\ipykernel_18916\\2729677711.py:1: UserWarning: Parsing '31/10/2008' in DD/MM/YYYY format. Provide format or specify infer_datetime_format=True for consistent parsing.\n",
      "  df['Date']=ps.to_datetime(df['Date'])\n",
      "C:\\Users\\dchakrab.COMPUTACENTER\\AppData\\Local\\Temp\\ipykernel_18916\\2729677711.py:1: UserWarning: Parsing '26/11/2008' in DD/MM/YYYY format. Provide format or specify infer_datetime_format=True for consistent parsing.\n",
      "  df['Date']=ps.to_datetime(df['Date'])\n",
      "C:\\Users\\dchakrab.COMPUTACENTER\\AppData\\Local\\Temp\\ipykernel_18916\\2729677711.py:1: UserWarning: Parsing '19/12/2008' in DD/MM/YYYY format. Provide format or specify infer_datetime_format=True for consistent parsing.\n",
      "  df['Date']=ps.to_datetime(df['Date'])\n",
      "C:\\Users\\dchakrab.COMPUTACENTER\\AppData\\Local\\Temp\\ipykernel_18916\\2729677711.py:1: UserWarning: Parsing '31/12/2009' in DD/MM/YYYY format. Provide format or specify infer_datetime_format=True for consistent parsing.\n",
      "  df['Date']=ps.to_datetime(df['Date'])\n",
      "C:\\Users\\dchakrab.COMPUTACENTER\\AppData\\Local\\Temp\\ipykernel_18916\\2729677711.py:1: UserWarning: Parsing '27/11/2009' in DD/MM/YYYY format. Provide format or specify infer_datetime_format=True for consistent parsing.\n",
      "  df['Date']=ps.to_datetime(df['Date'])\n",
      "C:\\Users\\dchakrab.COMPUTACENTER\\AppData\\Local\\Temp\\ipykernel_18916\\2729677711.py:1: UserWarning: Parsing '17/11/2008' in DD/MM/YYYY format. Provide format or specify infer_datetime_format=True for consistent parsing.\n",
      "  df['Date']=ps.to_datetime(df['Date'])\n",
      "C:\\Users\\dchakrab.COMPUTACENTER\\AppData\\Local\\Temp\\ipykernel_18916\\2729677711.py:1: UserWarning: Parsing '20/10/2007' in DD/MM/YYYY format. Provide format or specify infer_datetime_format=True for consistent parsing.\n",
      "  df['Date']=ps.to_datetime(df['Date'])\n",
      "C:\\Users\\dchakrab.COMPUTACENTER\\AppData\\Local\\Temp\\ipykernel_18916\\2729677711.py:1: UserWarning: Parsing '22/12/2007' in DD/MM/YYYY format. Provide format or specify infer_datetime_format=True for consistent parsing.\n",
      "  df['Date']=ps.to_datetime(df['Date'])\n",
      "C:\\Users\\dchakrab.COMPUTACENTER\\AppData\\Local\\Temp\\ipykernel_18916\\2729677711.py:1: UserWarning: Parsing '28/11/2008' in DD/MM/YYYY format. Provide format or specify infer_datetime_format=True for consistent parsing.\n",
      "  df['Date']=ps.to_datetime(df['Date'])\n",
      "C:\\Users\\dchakrab.COMPUTACENTER\\AppData\\Local\\Temp\\ipykernel_18916\\2729677711.py:1: UserWarning: Parsing '16/10/2008' in DD/MM/YYYY format. Provide format or specify infer_datetime_format=True for consistent parsing.\n",
      "  df['Date']=ps.to_datetime(df['Date'])\n",
      "C:\\Users\\dchakrab.COMPUTACENTER\\AppData\\Local\\Temp\\ipykernel_18916\\2729677711.py:1: UserWarning: Parsing '22/12/2009' in DD/MM/YYYY format. Provide format or specify infer_datetime_format=True for consistent parsing.\n",
      "  df['Date']=ps.to_datetime(df['Date'])\n",
      "C:\\Users\\dchakrab.COMPUTACENTER\\AppData\\Local\\Temp\\ipykernel_18916\\2729677711.py:1: UserWarning: Parsing '18/11/2010' in DD/MM/YYYY format. Provide format or specify infer_datetime_format=True for consistent parsing.\n",
      "  df['Date']=ps.to_datetime(df['Date'])\n",
      "C:\\Users\\dchakrab.COMPUTACENTER\\AppData\\Local\\Temp\\ipykernel_18916\\2729677711.py:1: UserWarning: Parsing '19/11/2008' in DD/MM/YYYY format. Provide format or specify infer_datetime_format=True for consistent parsing.\n",
      "  df['Date']=ps.to_datetime(df['Date'])\n",
      "C:\\Users\\dchakrab.COMPUTACENTER\\AppData\\Local\\Temp\\ipykernel_18916\\2729677711.py:1: UserWarning: Parsing '26/11/2007' in DD/MM/YYYY format. Provide format or specify infer_datetime_format=True for consistent parsing.\n",
      "  df['Date']=ps.to_datetime(df['Date'])\n",
      "C:\\Users\\dchakrab.COMPUTACENTER\\AppData\\Local\\Temp\\ipykernel_18916\\2729677711.py:1: UserWarning: Parsing '17/12/2006' in DD/MM/YYYY format. Provide format or specify infer_datetime_format=True for consistent parsing.\n",
      "  df['Date']=ps.to_datetime(df['Date'])\n",
      "C:\\Users\\dchakrab.COMPUTACENTER\\AppData\\Local\\Temp\\ipykernel_18916\\2729677711.py:1: UserWarning: Parsing '23/10/2008' in DD/MM/YYYY format. Provide format or specify infer_datetime_format=True for consistent parsing.\n",
      "  df['Date']=ps.to_datetime(df['Date'])\n",
      "C:\\Users\\dchakrab.COMPUTACENTER\\AppData\\Local\\Temp\\ipykernel_18916\\2729677711.py:1: UserWarning: Parsing '27/12/2008' in DD/MM/YYYY format. Provide format or specify infer_datetime_format=True for consistent parsing.\n",
      "  df['Date']=ps.to_datetime(df['Date'])\n",
      "C:\\Users\\dchakrab.COMPUTACENTER\\AppData\\Local\\Temp\\ipykernel_18916\\2729677711.py:1: UserWarning: Parsing '16/11/2008' in DD/MM/YYYY format. Provide format or specify infer_datetime_format=True for consistent parsing.\n",
      "  df['Date']=ps.to_datetime(df['Date'])\n",
      "C:\\Users\\dchakrab.COMPUTACENTER\\AppData\\Local\\Temp\\ipykernel_18916\\2729677711.py:1: UserWarning: Parsing '29/10/2010' in DD/MM/YYYY format. Provide format or specify infer_datetime_format=True for consistent parsing.\n",
      "  df['Date']=ps.to_datetime(df['Date'])\n",
      "C:\\Users\\dchakrab.COMPUTACENTER\\AppData\\Local\\Temp\\ipykernel_18916\\2729677711.py:1: UserWarning: Parsing '23/12/2006' in DD/MM/YYYY format. Provide format or specify infer_datetime_format=True for consistent parsing.\n",
      "  df['Date']=ps.to_datetime(df['Date'])\n",
      "C:\\Users\\dchakrab.COMPUTACENTER\\AppData\\Local\\Temp\\ipykernel_18916\\2729677711.py:1: UserWarning: Parsing '30/10/2007' in DD/MM/YYYY format. Provide format or specify infer_datetime_format=True for consistent parsing.\n",
      "  df['Date']=ps.to_datetime(df['Date'])\n",
      "C:\\Users\\dchakrab.COMPUTACENTER\\AppData\\Local\\Temp\\ipykernel_18916\\2729677711.py:1: UserWarning: Parsing '18/12/2006' in DD/MM/YYYY format. Provide format or specify infer_datetime_format=True for consistent parsing.\n",
      "  df['Date']=ps.to_datetime(df['Date'])\n",
      "C:\\Users\\dchakrab.COMPUTACENTER\\AppData\\Local\\Temp\\ipykernel_18916\\2729677711.py:1: UserWarning: Parsing '24/12/2009' in DD/MM/YYYY format. Provide format or specify infer_datetime_format=True for consistent parsing.\n",
      "  df['Date']=ps.to_datetime(df['Date'])\n",
      "C:\\Users\\dchakrab.COMPUTACENTER\\AppData\\Local\\Temp\\ipykernel_18916\\2729677711.py:1: UserWarning: Parsing '18/10/2008' in DD/MM/YYYY format. Provide format or specify infer_datetime_format=True for consistent parsing.\n",
      "  df['Date']=ps.to_datetime(df['Date'])\n",
      "C:\\Users\\dchakrab.COMPUTACENTER\\AppData\\Local\\Temp\\ipykernel_18916\\2729677711.py:1: UserWarning: Parsing '31/10/2007' in DD/MM/YYYY format. Provide format or specify infer_datetime_format=True for consistent parsing.\n",
      "  df['Date']=ps.to_datetime(df['Date'])\n",
      "C:\\Users\\dchakrab.COMPUTACENTER\\AppData\\Local\\Temp\\ipykernel_18916\\2729677711.py:1: UserWarning: Parsing '13/10/2009' in DD/MM/YYYY format. Provide format or specify infer_datetime_format=True for consistent parsing.\n",
      "  df['Date']=ps.to_datetime(df['Date'])\n",
      "C:\\Users\\dchakrab.COMPUTACENTER\\AppData\\Local\\Temp\\ipykernel_18916\\2729677711.py:1: UserWarning: Parsing '27/12/2009' in DD/MM/YYYY format. Provide format or specify infer_datetime_format=True for consistent parsing.\n",
      "  df['Date']=ps.to_datetime(df['Date'])\n",
      "C:\\Users\\dchakrab.COMPUTACENTER\\AppData\\Local\\Temp\\ipykernel_18916\\2729677711.py:1: UserWarning: Parsing '26/11/2010' in DD/MM/YYYY format. Provide format or specify infer_datetime_format=True for consistent parsing.\n",
      "  df['Date']=ps.to_datetime(df['Date'])\n",
      "C:\\Users\\dchakrab.COMPUTACENTER\\AppData\\Local\\Temp\\ipykernel_18916\\2729677711.py:1: UserWarning: Parsing '29/12/2006' in DD/MM/YYYY format. Provide format or specify infer_datetime_format=True for consistent parsing.\n",
      "  df['Date']=ps.to_datetime(df['Date'])\n",
      "C:\\Users\\dchakrab.COMPUTACENTER\\AppData\\Local\\Temp\\ipykernel_18916\\2729677711.py:1: UserWarning: Parsing '23/10/2009' in DD/MM/YYYY format. Provide format or specify infer_datetime_format=True for consistent parsing.\n",
      "  df['Date']=ps.to_datetime(df['Date'])\n",
      "C:\\Users\\dchakrab.COMPUTACENTER\\AppData\\Local\\Temp\\ipykernel_18916\\2729677711.py:1: UserWarning: Parsing '22/11/2009' in DD/MM/YYYY format. Provide format or specify infer_datetime_format=True for consistent parsing.\n",
      "  df['Date']=ps.to_datetime(df['Date'])\n",
      "C:\\Users\\dchakrab.COMPUTACENTER\\AppData\\Local\\Temp\\ipykernel_18916\\2729677711.py:1: UserWarning: Parsing '31/10/2009' in DD/MM/YYYY format. Provide format or specify infer_datetime_format=True for consistent parsing.\n",
      "  df['Date']=ps.to_datetime(df['Date'])\n",
      "C:\\Users\\dchakrab.COMPUTACENTER\\AppData\\Local\\Temp\\ipykernel_18916\\2729677711.py:1: UserWarning: Parsing '18/11/2009' in DD/MM/YYYY format. Provide format or specify infer_datetime_format=True for consistent parsing.\n",
      "  df['Date']=ps.to_datetime(df['Date'])\n",
      "C:\\Users\\dchakrab.COMPUTACENTER\\AppData\\Local\\Temp\\ipykernel_18916\\2729677711.py:1: UserWarning: Parsing '29/10/2008' in DD/MM/YYYY format. Provide format or specify infer_datetime_format=True for consistent parsing.\n",
      "  df['Date']=ps.to_datetime(df['Date'])\n",
      "C:\\Users\\dchakrab.COMPUTACENTER\\AppData\\Local\\Temp\\ipykernel_18916\\2729677711.py:1: UserWarning: Parsing '25/12/2007' in DD/MM/YYYY format. Provide format or specify infer_datetime_format=True for consistent parsing.\n",
      "  df['Date']=ps.to_datetime(df['Date'])\n",
      "C:\\Users\\dchakrab.COMPUTACENTER\\AppData\\Local\\Temp\\ipykernel_18916\\2729677711.py:1: UserWarning: Parsing '30/10/2009' in DD/MM/YYYY format. Provide format or specify infer_datetime_format=True for consistent parsing.\n",
      "  df['Date']=ps.to_datetime(df['Date'])\n",
      "C:\\Users\\dchakrab.COMPUTACENTER\\AppData\\Local\\Temp\\ipykernel_18916\\2729677711.py:1: UserWarning: Parsing '17/11/2009' in DD/MM/YYYY format. Provide format or specify infer_datetime_format=True for consistent parsing.\n",
      "  df['Date']=ps.to_datetime(df['Date'])\n",
      "C:\\Users\\dchakrab.COMPUTACENTER\\AppData\\Local\\Temp\\ipykernel_18916\\2729677711.py:1: UserWarning: Parsing '16/10/2010' in DD/MM/YYYY format. Provide format or specify infer_datetime_format=True for consistent parsing.\n",
      "  df['Date']=ps.to_datetime(df['Date'])\n",
      "C:\\Users\\dchakrab.COMPUTACENTER\\AppData\\Local\\Temp\\ipykernel_18916\\2729677711.py:1: UserWarning: Parsing '31/10/2010' in DD/MM/YYYY format. Provide format or specify infer_datetime_format=True for consistent parsing.\n",
      "  df['Date']=ps.to_datetime(df['Date'])\n",
      "C:\\Users\\dchakrab.COMPUTACENTER\\AppData\\Local\\Temp\\ipykernel_18916\\2729677711.py:1: UserWarning: Parsing '14/10/2010' in DD/MM/YYYY format. Provide format or specify infer_datetime_format=True for consistent parsing.\n",
      "  df['Date']=ps.to_datetime(df['Date'])\n",
      "C:\\Users\\dchakrab.COMPUTACENTER\\AppData\\Local\\Temp\\ipykernel_18916\\2729677711.py:1: UserWarning: Parsing '28/12/2008' in DD/MM/YYYY format. Provide format or specify infer_datetime_format=True for consistent parsing.\n",
      "  df['Date']=ps.to_datetime(df['Date'])\n",
      "C:\\Users\\dchakrab.COMPUTACENTER\\AppData\\Local\\Temp\\ipykernel_18916\\2729677711.py:1: UserWarning: Parsing '27/10/2009' in DD/MM/YYYY format. Provide format or specify infer_datetime_format=True for consistent parsing.\n",
      "  df['Date']=ps.to_datetime(df['Date'])\n",
      "C:\\Users\\dchakrab.COMPUTACENTER\\AppData\\Local\\Temp\\ipykernel_18916\\2729677711.py:1: UserWarning: Parsing '20/12/2009' in DD/MM/YYYY format. Provide format or specify infer_datetime_format=True for consistent parsing.\n",
      "  df['Date']=ps.to_datetime(df['Date'])\n",
      "C:\\Users\\dchakrab.COMPUTACENTER\\AppData\\Local\\Temp\\ipykernel_18916\\2729677711.py:1: UserWarning: Parsing '21/10/2010' in DD/MM/YYYY format. Provide format or specify infer_datetime_format=True for consistent parsing.\n",
      "  df['Date']=ps.to_datetime(df['Date'])\n",
      "C:\\Users\\dchakrab.COMPUTACENTER\\AppData\\Local\\Temp\\ipykernel_18916\\2729677711.py:1: UserWarning: Parsing '25/11/2007' in DD/MM/YYYY format. Provide format or specify infer_datetime_format=True for consistent parsing.\n",
      "  df['Date']=ps.to_datetime(df['Date'])\n",
      "C:\\Users\\dchakrab.COMPUTACENTER\\AppData\\Local\\Temp\\ipykernel_18916\\2729677711.py:1: UserWarning: Parsing '26/11/2009' in DD/MM/YYYY format. Provide format or specify infer_datetime_format=True for consistent parsing.\n",
      "  df['Date']=ps.to_datetime(df['Date'])\n",
      "C:\\Users\\dchakrab.COMPUTACENTER\\AppData\\Local\\Temp\\ipykernel_18916\\2729677711.py:1: UserWarning: Parsing '15/10/2007' in DD/MM/YYYY format. Provide format or specify infer_datetime_format=True for consistent parsing.\n",
      "  df['Date']=ps.to_datetime(df['Date'])\n",
      "C:\\Users\\dchakrab.COMPUTACENTER\\AppData\\Local\\Temp\\ipykernel_18916\\2729677711.py:1: UserWarning: Parsing '17/11/2010' in DD/MM/YYYY format. Provide format or specify infer_datetime_format=True for consistent parsing.\n",
      "  df['Date']=ps.to_datetime(df['Date'])\n",
      "C:\\Users\\dchakrab.COMPUTACENTER\\AppData\\Local\\Temp\\ipykernel_18916\\2729677711.py:1: UserWarning: Parsing '29/10/2007' in DD/MM/YYYY format. Provide format or specify infer_datetime_format=True for consistent parsing.\n",
      "  df['Date']=ps.to_datetime(df['Date'])\n",
      "C:\\Users\\dchakrab.COMPUTACENTER\\AppData\\Local\\Temp\\ipykernel_18916\\2729677711.py:1: UserWarning: Parsing '20/10/2008' in DD/MM/YYYY format. Provide format or specify infer_datetime_format=True for consistent parsing.\n",
      "  df['Date']=ps.to_datetime(df['Date'])\n",
      "C:\\Users\\dchakrab.COMPUTACENTER\\AppData\\Local\\Temp\\ipykernel_18916\\2729677711.py:1: UserWarning: Parsing '22/11/2007' in DD/MM/YYYY format. Provide format or specify infer_datetime_format=True for consistent parsing.\n",
      "  df['Date']=ps.to_datetime(df['Date'])\n",
      "C:\\Users\\dchakrab.COMPUTACENTER\\AppData\\Local\\Temp\\ipykernel_18916\\2729677711.py:1: UserWarning: Parsing '14/11/2008' in DD/MM/YYYY format. Provide format or specify infer_datetime_format=True for consistent parsing.\n",
      "  df['Date']=ps.to_datetime(df['Date'])\n",
      "C:\\Users\\dchakrab.COMPUTACENTER\\AppData\\Local\\Temp\\ipykernel_18916\\2729677711.py:1: UserWarning: Parsing '14/12/2007' in DD/MM/YYYY format. Provide format or specify infer_datetime_format=True for consistent parsing.\n",
      "  df['Date']=ps.to_datetime(df['Date'])\n",
      "C:\\Users\\dchakrab.COMPUTACENTER\\AppData\\Local\\Temp\\ipykernel_18916\\2729677711.py:1: UserWarning: Parsing '18/12/2007' in DD/MM/YYYY format. Provide format or specify infer_datetime_format=True for consistent parsing.\n",
      "  df['Date']=ps.to_datetime(df['Date'])\n",
      "C:\\Users\\dchakrab.COMPUTACENTER\\AppData\\Local\\Temp\\ipykernel_18916\\2729677711.py:1: UserWarning: Parsing '20/11/2010' in DD/MM/YYYY format. Provide format or specify infer_datetime_format=True for consistent parsing.\n",
      "  df['Date']=ps.to_datetime(df['Date'])\n",
      "C:\\Users\\dchakrab.COMPUTACENTER\\AppData\\Local\\Temp\\ipykernel_18916\\2729677711.py:1: UserWarning: Parsing '20/11/2007' in DD/MM/YYYY format. Provide format or specify infer_datetime_format=True for consistent parsing.\n",
      "  df['Date']=ps.to_datetime(df['Date'])\n",
      "C:\\Users\\dchakrab.COMPUTACENTER\\AppData\\Local\\Temp\\ipykernel_18916\\2729677711.py:1: UserWarning: Parsing '14/11/2009' in DD/MM/YYYY format. Provide format or specify infer_datetime_format=True for consistent parsing.\n",
      "  df['Date']=ps.to_datetime(df['Date'])\n",
      "C:\\Users\\dchakrab.COMPUTACENTER\\AppData\\Local\\Temp\\ipykernel_18916\\2729677711.py:1: UserWarning: Parsing '27/10/2008' in DD/MM/YYYY format. Provide format or specify infer_datetime_format=True for consistent parsing.\n",
      "  df['Date']=ps.to_datetime(df['Date'])\n",
      "C:\\Users\\dchakrab.COMPUTACENTER\\AppData\\Local\\Temp\\ipykernel_18916\\2729677711.py:1: UserWarning: Parsing '19/10/2010' in DD/MM/YYYY format. Provide format or specify infer_datetime_format=True for consistent parsing.\n",
      "  df['Date']=ps.to_datetime(df['Date'])\n",
      "C:\\Users\\dchakrab.COMPUTACENTER\\AppData\\Local\\Temp\\ipykernel_18916\\2729677711.py:1: UserWarning: Parsing '13/11/2010' in DD/MM/YYYY format. Provide format or specify infer_datetime_format=True for consistent parsing.\n",
      "  df['Date']=ps.to_datetime(df['Date'])\n",
      "C:\\Users\\dchakrab.COMPUTACENTER\\AppData\\Local\\Temp\\ipykernel_18916\\2729677711.py:1: UserWarning: Parsing '29/12/2009' in DD/MM/YYYY format. Provide format or specify infer_datetime_format=True for consistent parsing.\n",
      "  df['Date']=ps.to_datetime(df['Date'])\n",
      "C:\\Users\\dchakrab.COMPUTACENTER\\AppData\\Local\\Temp\\ipykernel_18916\\2729677711.py:1: UserWarning: Parsing '24/10/2007' in DD/MM/YYYY format. Provide format or specify infer_datetime_format=True for consistent parsing.\n",
      "  df['Date']=ps.to_datetime(df['Date'])\n",
      "C:\\Users\\dchakrab.COMPUTACENTER\\AppData\\Local\\Temp\\ipykernel_18916\\2729677711.py:1: UserWarning: Parsing '23/10/2010' in DD/MM/YYYY format. Provide format or specify infer_datetime_format=True for consistent parsing.\n",
      "  df['Date']=ps.to_datetime(df['Date'])\n",
      "C:\\Users\\dchakrab.COMPUTACENTER\\AppData\\Local\\Temp\\ipykernel_18916\\2729677711.py:1: UserWarning: Parsing '14/12/2009' in DD/MM/YYYY format. Provide format or specify infer_datetime_format=True for consistent parsing.\n",
      "  df['Date']=ps.to_datetime(df['Date'])\n",
      "C:\\Users\\dchakrab.COMPUTACENTER\\AppData\\Local\\Temp\\ipykernel_18916\\2729677711.py:1: UserWarning: Parsing '26/12/2006' in DD/MM/YYYY format. Provide format or specify infer_datetime_format=True for consistent parsing.\n",
      "  df['Date']=ps.to_datetime(df['Date'])\n",
      "C:\\Users\\dchakrab.COMPUTACENTER\\AppData\\Local\\Temp\\ipykernel_18916\\2729677711.py:1: UserWarning: Parsing '28/11/2009' in DD/MM/YYYY format. Provide format or specify infer_datetime_format=True for consistent parsing.\n",
      "  df['Date']=ps.to_datetime(df['Date'])\n",
      "C:\\Users\\dchakrab.COMPUTACENTER\\AppData\\Local\\Temp\\ipykernel_18916\\2729677711.py:1: UserWarning: Parsing '22/12/2006' in DD/MM/YYYY format. Provide format or specify infer_datetime_format=True for consistent parsing.\n",
      "  df['Date']=ps.to_datetime(df['Date'])\n",
      "C:\\Users\\dchakrab.COMPUTACENTER\\AppData\\Local\\Temp\\ipykernel_18916\\2729677711.py:1: UserWarning: Parsing '25/12/2006' in DD/MM/YYYY format. Provide format or specify infer_datetime_format=True for consistent parsing.\n",
      "  df['Date']=ps.to_datetime(df['Date'])\n",
      "C:\\Users\\dchakrab.COMPUTACENTER\\AppData\\Local\\Temp\\ipykernel_18916\\2729677711.py:1: UserWarning: Parsing '17/12/2008' in DD/MM/YYYY format. Provide format or specify infer_datetime_format=True for consistent parsing.\n",
      "  df['Date']=ps.to_datetime(df['Date'])\n",
      "C:\\Users\\dchakrab.COMPUTACENTER\\AppData\\Local\\Temp\\ipykernel_18916\\2729677711.py:1: UserWarning: Parsing '28/11/2007' in DD/MM/YYYY format. Provide format or specify infer_datetime_format=True for consistent parsing.\n",
      "  df['Date']=ps.to_datetime(df['Date'])\n",
      "C:\\Users\\dchakrab.COMPUTACENTER\\AppData\\Local\\Temp\\ipykernel_18916\\2729677711.py:1: UserWarning: Parsing '21/12/2006' in DD/MM/YYYY format. Provide format or specify infer_datetime_format=True for consistent parsing.\n",
      "  df['Date']=ps.to_datetime(df['Date'])\n",
      "C:\\Users\\dchakrab.COMPUTACENTER\\AppData\\Local\\Temp\\ipykernel_18916\\2729677711.py:1: UserWarning: Parsing '31/12/2006' in DD/MM/YYYY format. Provide format or specify infer_datetime_format=True for consistent parsing.\n",
      "  df['Date']=ps.to_datetime(df['Date'])\n",
      "C:\\Users\\dchakrab.COMPUTACENTER\\AppData\\Local\\Temp\\ipykernel_18916\\2729677711.py:1: UserWarning: Parsing '17/12/2009' in DD/MM/YYYY format. Provide format or specify infer_datetime_format=True for consistent parsing.\n",
      "  df['Date']=ps.to_datetime(df['Date'])\n",
      "C:\\Users\\dchakrab.COMPUTACENTER\\AppData\\Local\\Temp\\ipykernel_18916\\2729677711.py:1: UserWarning: Parsing '21/11/2010' in DD/MM/YYYY format. Provide format or specify infer_datetime_format=True for consistent parsing.\n",
      "  df['Date']=ps.to_datetime(df['Date'])\n",
      "C:\\Users\\dchakrab.COMPUTACENTER\\AppData\\Local\\Temp\\ipykernel_18916\\2729677711.py:1: UserWarning: Parsing '20/12/2006' in DD/MM/YYYY format. Provide format or specify infer_datetime_format=True for consistent parsing.\n",
      "  df['Date']=ps.to_datetime(df['Date'])\n",
      "C:\\Users\\dchakrab.COMPUTACENTER\\AppData\\Local\\Temp\\ipykernel_18916\\2729677711.py:1: UserWarning: Parsing '25/10/2010' in DD/MM/YYYY format. Provide format or specify infer_datetime_format=True for consistent parsing.\n",
      "  df['Date']=ps.to_datetime(df['Date'])\n",
      "C:\\Users\\dchakrab.COMPUTACENTER\\AppData\\Local\\Temp\\ipykernel_18916\\2729677711.py:1: UserWarning: Parsing '21/12/2008' in DD/MM/YYYY format. Provide format or specify infer_datetime_format=True for consistent parsing.\n",
      "  df['Date']=ps.to_datetime(df['Date'])\n",
      "C:\\Users\\dchakrab.COMPUTACENTER\\AppData\\Local\\Temp\\ipykernel_18916\\2729677711.py:1: UserWarning: Parsing '16/12/2009' in DD/MM/YYYY format. Provide format or specify infer_datetime_format=True for consistent parsing.\n",
      "  df['Date']=ps.to_datetime(df['Date'])\n",
      "C:\\Users\\dchakrab.COMPUTACENTER\\AppData\\Local\\Temp\\ipykernel_18916\\2729677711.py:1: UserWarning: Parsing '18/10/2010' in DD/MM/YYYY format. Provide format or specify infer_datetime_format=True for consistent parsing.\n",
      "  df['Date']=ps.to_datetime(df['Date'])\n",
      "C:\\Users\\dchakrab.COMPUTACENTER\\AppData\\Local\\Temp\\ipykernel_18916\\2729677711.py:1: UserWarning: Parsing '22/10/2009' in DD/MM/YYYY format. Provide format or specify infer_datetime_format=True for consistent parsing.\n",
      "  df['Date']=ps.to_datetime(df['Date'])\n",
      "C:\\Users\\dchakrab.COMPUTACENTER\\AppData\\Local\\Temp\\ipykernel_18916\\2729677711.py:1: UserWarning: Parsing '16/10/2009' in DD/MM/YYYY format. Provide format or specify infer_datetime_format=True for consistent parsing.\n",
      "  df['Date']=ps.to_datetime(df['Date'])\n",
      "C:\\Users\\dchakrab.COMPUTACENTER\\AppData\\Local\\Temp\\ipykernel_18916\\2729677711.py:1: UserWarning: Parsing '26/12/2007' in DD/MM/YYYY format. Provide format or specify infer_datetime_format=True for consistent parsing.\n",
      "  df['Date']=ps.to_datetime(df['Date'])\n",
      "C:\\Users\\dchakrab.COMPUTACENTER\\AppData\\Local\\Temp\\ipykernel_18916\\2729677711.py:1: UserWarning: Parsing '27/10/2010' in DD/MM/YYYY format. Provide format or specify infer_datetime_format=True for consistent parsing.\n",
      "  df['Date']=ps.to_datetime(df['Date'])\n",
      "C:\\Users\\dchakrab.COMPUTACENTER\\AppData\\Local\\Temp\\ipykernel_18916\\2729677711.py:1: UserWarning: Parsing '25/12/2009' in DD/MM/YYYY format. Provide format or specify infer_datetime_format=True for consistent parsing.\n",
      "  df['Date']=ps.to_datetime(df['Date'])\n",
      "C:\\Users\\dchakrab.COMPUTACENTER\\AppData\\Local\\Temp\\ipykernel_18916\\2729677711.py:1: UserWarning: Parsing '24/11/2009' in DD/MM/YYYY format. Provide format or specify infer_datetime_format=True for consistent parsing.\n",
      "  df['Date']=ps.to_datetime(df['Date'])\n",
      "C:\\Users\\dchakrab.COMPUTACENTER\\AppData\\Local\\Temp\\ipykernel_18916\\2729677711.py:1: UserWarning: Parsing '15/11/2009' in DD/MM/YYYY format. Provide format or specify infer_datetime_format=True for consistent parsing.\n",
      "  df['Date']=ps.to_datetime(df['Date'])\n",
      "C:\\Users\\dchakrab.COMPUTACENTER\\AppData\\Local\\Temp\\ipykernel_18916\\2729677711.py:1: UserWarning: Parsing '27/11/2008' in DD/MM/YYYY format. Provide format or specify infer_datetime_format=True for consistent parsing.\n",
      "  df['Date']=ps.to_datetime(df['Date'])\n",
      "C:\\Users\\dchakrab.COMPUTACENTER\\AppData\\Local\\Temp\\ipykernel_18916\\2729677711.py:1: UserWarning: Parsing '18/10/2007' in DD/MM/YYYY format. Provide format or specify infer_datetime_format=True for consistent parsing.\n",
      "  df['Date']=ps.to_datetime(df['Date'])\n",
      "C:\\Users\\dchakrab.COMPUTACENTER\\AppData\\Local\\Temp\\ipykernel_18916\\2729677711.py:1: UserWarning: Parsing '25/11/2008' in DD/MM/YYYY format. Provide format or specify infer_datetime_format=True for consistent parsing.\n",
      "  df['Date']=ps.to_datetime(df['Date'])\n",
      "C:\\Users\\dchakrab.COMPUTACENTER\\AppData\\Local\\Temp\\ipykernel_18916\\2729677711.py:1: UserWarning: Parsing '27/12/2007' in DD/MM/YYYY format. Provide format or specify infer_datetime_format=True for consistent parsing.\n",
      "  df['Date']=ps.to_datetime(df['Date'])\n",
      "C:\\Users\\dchakrab.COMPUTACENTER\\AppData\\Local\\Temp\\ipykernel_18916\\2729677711.py:1: UserWarning: Parsing '19/12/2007' in DD/MM/YYYY format. Provide format or specify infer_datetime_format=True for consistent parsing.\n",
      "  df['Date']=ps.to_datetime(df['Date'])\n",
      "C:\\Users\\dchakrab.COMPUTACENTER\\AppData\\Local\\Temp\\ipykernel_18916\\2729677711.py:1: UserWarning: Parsing '30/12/2007' in DD/MM/YYYY format. Provide format or specify infer_datetime_format=True for consistent parsing.\n",
      "  df['Date']=ps.to_datetime(df['Date'])\n",
      "C:\\Users\\dchakrab.COMPUTACENTER\\AppData\\Local\\Temp\\ipykernel_18916\\2729677711.py:1: UserWarning: Parsing '19/11/2009' in DD/MM/YYYY format. Provide format or specify infer_datetime_format=True for consistent parsing.\n",
      "  df['Date']=ps.to_datetime(df['Date'])\n",
      "C:\\Users\\dchakrab.COMPUTACENTER\\AppData\\Local\\Temp\\ipykernel_18916\\2729677711.py:1: UserWarning: Parsing '24/10/2008' in DD/MM/YYYY format. Provide format or specify infer_datetime_format=True for consistent parsing.\n",
      "  df['Date']=ps.to_datetime(df['Date'])\n",
      "C:\\Users\\dchakrab.COMPUTACENTER\\AppData\\Local\\Temp\\ipykernel_18916\\2729677711.py:1: UserWarning: Parsing '23/12/2008' in DD/MM/YYYY format. Provide format or specify infer_datetime_format=True for consistent parsing.\n",
      "  df['Date']=ps.to_datetime(df['Date'])\n",
      "C:\\Users\\dchakrab.COMPUTACENTER\\AppData\\Local\\Temp\\ipykernel_18916\\2729677711.py:1: UserWarning: Parsing '27/10/2007' in DD/MM/YYYY format. Provide format or specify infer_datetime_format=True for consistent parsing.\n",
      "  df['Date']=ps.to_datetime(df['Date'])\n",
      "C:\\Users\\dchakrab.COMPUTACENTER\\AppData\\Local\\Temp\\ipykernel_18916\\2729677711.py:1: UserWarning: Parsing '21/10/2009' in DD/MM/YYYY format. Provide format or specify infer_datetime_format=True for consistent parsing.\n",
      "  df['Date']=ps.to_datetime(df['Date'])\n",
      "C:\\Users\\dchakrab.COMPUTACENTER\\AppData\\Local\\Temp\\ipykernel_18916\\2729677711.py:1: UserWarning: Parsing '15/12/2009' in DD/MM/YYYY format. Provide format or specify infer_datetime_format=True for consistent parsing.\n",
      "  df['Date']=ps.to_datetime(df['Date'])\n",
      "C:\\Users\\dchakrab.COMPUTACENTER\\AppData\\Local\\Temp\\ipykernel_18916\\2729677711.py:1: UserWarning: Parsing '21/11/2007' in DD/MM/YYYY format. Provide format or specify infer_datetime_format=True for consistent parsing.\n",
      "  df['Date']=ps.to_datetime(df['Date'])\n",
      "C:\\Users\\dchakrab.COMPUTACENTER\\AppData\\Local\\Temp\\ipykernel_18916\\2729677711.py:1: UserWarning: Parsing '16/11/2007' in DD/MM/YYYY format. Provide format or specify infer_datetime_format=True for consistent parsing.\n",
      "  df['Date']=ps.to_datetime(df['Date'])\n",
      "C:\\Users\\dchakrab.COMPUTACENTER\\AppData\\Local\\Temp\\ipykernel_18916\\2729677711.py:1: UserWarning: Parsing '13/10/2008' in DD/MM/YYYY format. Provide format or specify infer_datetime_format=True for consistent parsing.\n",
      "  df['Date']=ps.to_datetime(df['Date'])\n",
      "C:\\Users\\dchakrab.COMPUTACENTER\\AppData\\Local\\Temp\\ipykernel_18916\\2729677711.py:1: UserWarning: Parsing '21/11/2009' in DD/MM/YYYY format. Provide format or specify infer_datetime_format=True for consistent parsing.\n",
      "  df['Date']=ps.to_datetime(df['Date'])\n",
      "C:\\Users\\dchakrab.COMPUTACENTER\\AppData\\Local\\Temp\\ipykernel_18916\\2729677711.py:1: UserWarning: Parsing '16/12/2007' in DD/MM/YYYY format. Provide format or specify infer_datetime_format=True for consistent parsing.\n",
      "  df['Date']=ps.to_datetime(df['Date'])\n",
      "C:\\Users\\dchakrab.COMPUTACENTER\\AppData\\Local\\Temp\\ipykernel_18916\\2729677711.py:1: UserWarning: Parsing '19/11/2007' in DD/MM/YYYY format. Provide format or specify infer_datetime_format=True for consistent parsing.\n",
      "  df['Date']=ps.to_datetime(df['Date'])\n",
      "C:\\Users\\dchakrab.COMPUTACENTER\\AppData\\Local\\Temp\\ipykernel_18916\\2729677711.py:1: UserWarning: Parsing '17/12/2007' in DD/MM/YYYY format. Provide format or specify infer_datetime_format=True for consistent parsing.\n",
      "  df['Date']=ps.to_datetime(df['Date'])\n",
      "C:\\Users\\dchakrab.COMPUTACENTER\\AppData\\Local\\Temp\\ipykernel_18916\\2729677711.py:1: UserWarning: Parsing '17/10/2007' in DD/MM/YYYY format. Provide format or specify infer_datetime_format=True for consistent parsing.\n",
      "  df['Date']=ps.to_datetime(df['Date'])\n",
      "C:\\Users\\dchakrab.COMPUTACENTER\\AppData\\Local\\Temp\\ipykernel_18916\\2729677711.py:1: UserWarning: Parsing '29/11/2007' in DD/MM/YYYY format. Provide format or specify infer_datetime_format=True for consistent parsing.\n",
      "  df['Date']=ps.to_datetime(df['Date'])\n"
     ]
    },
    {
     "name": "stderr",
     "output_type": "stream",
     "text": [
      "C:\\Users\\dchakrab.COMPUTACENTER\\AppData\\Local\\Temp\\ipykernel_18916\\2729677711.py:1: UserWarning: Parsing '30/10/2008' in DD/MM/YYYY format. Provide format or specify infer_datetime_format=True for consistent parsing.\n",
      "  df['Date']=ps.to_datetime(df['Date'])\n",
      "C:\\Users\\dchakrab.COMPUTACENTER\\AppData\\Local\\Temp\\ipykernel_18916\\2729677711.py:1: UserWarning: Parsing '23/11/2008' in DD/MM/YYYY format. Provide format or specify infer_datetime_format=True for consistent parsing.\n",
      "  df['Date']=ps.to_datetime(df['Date'])\n",
      "C:\\Users\\dchakrab.COMPUTACENTER\\AppData\\Local\\Temp\\ipykernel_18916\\2729677711.py:1: UserWarning: Parsing '31/12/2008' in DD/MM/YYYY format. Provide format or specify infer_datetime_format=True for consistent parsing.\n",
      "  df['Date']=ps.to_datetime(df['Date'])\n",
      "C:\\Users\\dchakrab.COMPUTACENTER\\AppData\\Local\\Temp\\ipykernel_18916\\2729677711.py:1: UserWarning: Parsing '26/10/2010' in DD/MM/YYYY format. Provide format or specify infer_datetime_format=True for consistent parsing.\n",
      "  df['Date']=ps.to_datetime(df['Date'])\n",
      "C:\\Users\\dchakrab.COMPUTACENTER\\AppData\\Local\\Temp\\ipykernel_18916\\2729677711.py:1: UserWarning: Parsing '20/10/2009' in DD/MM/YYYY format. Provide format or specify infer_datetime_format=True for consistent parsing.\n",
      "  df['Date']=ps.to_datetime(df['Date'])\n",
      "C:\\Users\\dchakrab.COMPUTACENTER\\AppData\\Local\\Temp\\ipykernel_18916\\2729677711.py:1: UserWarning: Parsing '31/12/2007' in DD/MM/YYYY format. Provide format or specify infer_datetime_format=True for consistent parsing.\n",
      "  df['Date']=ps.to_datetime(df['Date'])\n",
      "C:\\Users\\dchakrab.COMPUTACENTER\\AppData\\Local\\Temp\\ipykernel_18916\\2729677711.py:1: UserWarning: Parsing '15/11/2010' in DD/MM/YYYY format. Provide format or specify infer_datetime_format=True for consistent parsing.\n",
      "  df['Date']=ps.to_datetime(df['Date'])\n",
      "C:\\Users\\dchakrab.COMPUTACENTER\\AppData\\Local\\Temp\\ipykernel_18916\\2729677711.py:1: UserWarning: Parsing '22/10/2010' in DD/MM/YYYY format. Provide format or specify infer_datetime_format=True for consistent parsing.\n",
      "  df['Date']=ps.to_datetime(df['Date'])\n",
      "C:\\Users\\dchakrab.COMPUTACENTER\\AppData\\Local\\Temp\\ipykernel_18916\\2729677711.py:1: UserWarning: Parsing '30/12/2009' in DD/MM/YYYY format. Provide format or specify infer_datetime_format=True for consistent parsing.\n",
      "  df['Date']=ps.to_datetime(df['Date'])\n",
      "C:\\Users\\dchakrab.COMPUTACENTER\\AppData\\Local\\Temp\\ipykernel_18916\\2729677711.py:1: UserWarning: Parsing '18/12/2008' in DD/MM/YYYY format. Provide format or specify infer_datetime_format=True for consistent parsing.\n",
      "  df['Date']=ps.to_datetime(df['Date'])\n",
      "C:\\Users\\dchakrab.COMPUTACENTER\\AppData\\Local\\Temp\\ipykernel_18916\\2729677711.py:1: UserWarning: Parsing '20/10/2010' in DD/MM/YYYY format. Provide format or specify infer_datetime_format=True for consistent parsing.\n",
      "  df['Date']=ps.to_datetime(df['Date'])\n",
      "C:\\Users\\dchakrab.COMPUTACENTER\\AppData\\Local\\Temp\\ipykernel_18916\\2729677711.py:1: UserWarning: Parsing '23/11/2010' in DD/MM/YYYY format. Provide format or specify infer_datetime_format=True for consistent parsing.\n",
      "  df['Date']=ps.to_datetime(df['Date'])\n",
      "C:\\Users\\dchakrab.COMPUTACENTER\\AppData\\Local\\Temp\\ipykernel_18916\\2729677711.py:1: UserWarning: Parsing '13/11/2008' in DD/MM/YYYY format. Provide format or specify infer_datetime_format=True for consistent parsing.\n",
      "  df['Date']=ps.to_datetime(df['Date'])\n",
      "C:\\Users\\dchakrab.COMPUTACENTER\\AppData\\Local\\Temp\\ipykernel_18916\\2729677711.py:1: UserWarning: Parsing '17/10/2008' in DD/MM/YYYY format. Provide format or specify infer_datetime_format=True for consistent parsing.\n",
      "  df['Date']=ps.to_datetime(df['Date'])\n",
      "C:\\Users\\dchakrab.COMPUTACENTER\\AppData\\Local\\Temp\\ipykernel_18916\\2729677711.py:1: UserWarning: Parsing '30/11/2009' in DD/MM/YYYY format. Provide format or specify infer_datetime_format=True for consistent parsing.\n",
      "  df['Date']=ps.to_datetime(df['Date'])\n",
      "C:\\Users\\dchakrab.COMPUTACENTER\\AppData\\Local\\Temp\\ipykernel_18916\\2729677711.py:1: UserWarning: Parsing '29/11/2008' in DD/MM/YYYY format. Provide format or specify infer_datetime_format=True for consistent parsing.\n",
      "  df['Date']=ps.to_datetime(df['Date'])\n",
      "C:\\Users\\dchakrab.COMPUTACENTER\\AppData\\Local\\Temp\\ipykernel_18916\\2729677711.py:1: UserWarning: Parsing '20/11/2009' in DD/MM/YYYY format. Provide format or specify infer_datetime_format=True for consistent parsing.\n",
      "  df['Date']=ps.to_datetime(df['Date'])\n",
      "C:\\Users\\dchakrab.COMPUTACENTER\\AppData\\Local\\Temp\\ipykernel_18916\\2729677711.py:1: UserWarning: Parsing '24/12/2006' in DD/MM/YYYY format. Provide format or specify infer_datetime_format=True for consistent parsing.\n",
      "  df['Date']=ps.to_datetime(df['Date'])\n",
      "C:\\Users\\dchakrab.COMPUTACENTER\\AppData\\Local\\Temp\\ipykernel_18916\\2729677711.py:1: UserWarning: Parsing '23/10/2007' in DD/MM/YYYY format. Provide format or specify infer_datetime_format=True for consistent parsing.\n",
      "  df['Date']=ps.to_datetime(df['Date'])\n",
      "C:\\Users\\dchakrab.COMPUTACENTER\\AppData\\Local\\Temp\\ipykernel_18916\\2729677711.py:1: UserWarning: Parsing '18/11/2008' in DD/MM/YYYY format. Provide format or specify infer_datetime_format=True for consistent parsing.\n",
      "  df['Date']=ps.to_datetime(df['Date'])\n",
      "C:\\Users\\dchakrab.COMPUTACENTER\\AppData\\Local\\Temp\\ipykernel_18916\\2729677711.py:1: UserWarning: Parsing '22/11/2010' in DD/MM/YYYY format. Provide format or specify infer_datetime_format=True for consistent parsing.\n",
      "  df['Date']=ps.to_datetime(df['Date'])\n",
      "C:\\Users\\dchakrab.COMPUTACENTER\\AppData\\Local\\Temp\\ipykernel_18916\\2729677711.py:1: UserWarning: Parsing '15/11/2007' in DD/MM/YYYY format. Provide format or specify infer_datetime_format=True for consistent parsing.\n",
      "  df['Date']=ps.to_datetime(df['Date'])\n",
      "C:\\Users\\dchakrab.COMPUTACENTER\\AppData\\Local\\Temp\\ipykernel_18916\\2729677711.py:1: UserWarning: Parsing '19/10/2009' in DD/MM/YYYY format. Provide format or specify infer_datetime_format=True for consistent parsing.\n",
      "  df['Date']=ps.to_datetime(df['Date'])\n",
      "C:\\Users\\dchakrab.COMPUTACENTER\\AppData\\Local\\Temp\\ipykernel_18916\\2729677711.py:1: UserWarning: Parsing '19/12/2009' in DD/MM/YYYY format. Provide format or specify infer_datetime_format=True for consistent parsing.\n",
      "  df['Date']=ps.to_datetime(df['Date'])\n",
      "C:\\Users\\dchakrab.COMPUTACENTER\\AppData\\Local\\Temp\\ipykernel_18916\\2729677711.py:1: UserWarning: Parsing '19/10/2007' in DD/MM/YYYY format. Provide format or specify infer_datetime_format=True for consistent parsing.\n",
      "  df['Date']=ps.to_datetime(df['Date'])\n",
      "C:\\Users\\dchakrab.COMPUTACENTER\\AppData\\Local\\Temp\\ipykernel_18916\\2729677711.py:1: UserWarning: Parsing '17/11/2007' in DD/MM/YYYY format. Provide format or specify infer_datetime_format=True for consistent parsing.\n",
      "  df['Date']=ps.to_datetime(df['Date'])\n",
      "C:\\Users\\dchakrab.COMPUTACENTER\\AppData\\Local\\Temp\\ipykernel_18916\\2729677711.py:1: UserWarning: Parsing '20/11/2008' in DD/MM/YYYY format. Provide format or specify infer_datetime_format=True for consistent parsing.\n",
      "  df['Date']=ps.to_datetime(df['Date'])\n",
      "C:\\Users\\dchakrab.COMPUTACENTER\\AppData\\Local\\Temp\\ipykernel_18916\\2729677711.py:1: UserWarning: Parsing '15/10/2009' in DD/MM/YYYY format. Provide format or specify infer_datetime_format=True for consistent parsing.\n",
      "  df['Date']=ps.to_datetime(df['Date'])\n",
      "C:\\Users\\dchakrab.COMPUTACENTER\\AppData\\Local\\Temp\\ipykernel_18916\\2729677711.py:1: UserWarning: Parsing '29/12/2008' in DD/MM/YYYY format. Provide format or specify infer_datetime_format=True for consistent parsing.\n",
      "  df['Date']=ps.to_datetime(df['Date'])\n",
      "C:\\Users\\dchakrab.COMPUTACENTER\\AppData\\Local\\Temp\\ipykernel_18916\\2729677711.py:1: UserWarning: Parsing '16/10/2007' in DD/MM/YYYY format. Provide format or specify infer_datetime_format=True for consistent parsing.\n",
      "  df['Date']=ps.to_datetime(df['Date'])\n",
      "C:\\Users\\dchakrab.COMPUTACENTER\\AppData\\Local\\Temp\\ipykernel_18916\\2729677711.py:1: UserWarning: Parsing '30/11/2008' in DD/MM/YYYY format. Provide format or specify infer_datetime_format=True for consistent parsing.\n",
      "  df['Date']=ps.to_datetime(df['Date'])\n",
      "C:\\Users\\dchakrab.COMPUTACENTER\\AppData\\Local\\Temp\\ipykernel_18916\\2729677711.py:1: UserWarning: Parsing '19/12/2006' in DD/MM/YYYY format. Provide format or specify infer_datetime_format=True for consistent parsing.\n",
      "  df['Date']=ps.to_datetime(df['Date'])\n",
      "C:\\Users\\dchakrab.COMPUTACENTER\\AppData\\Local\\Temp\\ipykernel_18916\\2729677711.py:1: UserWarning: Parsing '18/10/2009' in DD/MM/YYYY format. Provide format or specify infer_datetime_format=True for consistent parsing.\n",
      "  df['Date']=ps.to_datetime(df['Date'])\n",
      "C:\\Users\\dchakrab.COMPUTACENTER\\AppData\\Local\\Temp\\ipykernel_18916\\2729677711.py:1: UserWarning: Parsing '16/12/2008' in DD/MM/YYYY format. Provide format or specify infer_datetime_format=True for consistent parsing.\n",
      "  df['Date']=ps.to_datetime(df['Date'])\n",
      "C:\\Users\\dchakrab.COMPUTACENTER\\AppData\\Local\\Temp\\ipykernel_18916\\2729677711.py:1: UserWarning: Parsing '16/12/2006' in DD/MM/YYYY format. Provide format or specify infer_datetime_format=True for consistent parsing.\n",
      "  df['Date']=ps.to_datetime(df['Date'])\n",
      "C:\\Users\\dchakrab.COMPUTACENTER\\AppData\\Local\\Temp\\ipykernel_18916\\2729677711.py:1: UserWarning: Parsing '14/12/2008' in DD/MM/YYYY format. Provide format or specify infer_datetime_format=True for consistent parsing.\n",
      "  df['Date']=ps.to_datetime(df['Date'])\n",
      "C:\\Users\\dchakrab.COMPUTACENTER\\AppData\\Local\\Temp\\ipykernel_18916\\2729677711.py:1: UserWarning: Parsing '18/11/2007' in DD/MM/YYYY format. Provide format or specify infer_datetime_format=True for consistent parsing.\n",
      "  df['Date']=ps.to_datetime(df['Date'])\n",
      "C:\\Users\\dchakrab.COMPUTACENTER\\AppData\\Local\\Temp\\ipykernel_18916\\2729677711.py:1: UserWarning: Parsing '25/10/2008' in DD/MM/YYYY format. Provide format or specify infer_datetime_format=True for consistent parsing.\n",
      "  df['Date']=ps.to_datetime(df['Date'])\n"
     ]
    },
    {
     "name": "stderr",
     "output_type": "stream",
     "text": [
      "C:\\Users\\dchakrab.COMPUTACENTER\\AppData\\Local\\Temp\\ipykernel_18916\\2729677711.py:1: UserWarning: Parsing '21/10/2007' in DD/MM/YYYY format. Provide format or specify infer_datetime_format=True for consistent parsing.\n",
      "  df['Date']=ps.to_datetime(df['Date'])\n",
      "C:\\Users\\dchakrab.COMPUTACENTER\\AppData\\Local\\Temp\\ipykernel_18916\\2729677711.py:1: UserWarning: Parsing '13/12/2008' in DD/MM/YYYY format. Provide format or specify infer_datetime_format=True for consistent parsing.\n",
      "  df['Date']=ps.to_datetime(df['Date'])\n",
      "C:\\Users\\dchakrab.COMPUTACENTER\\AppData\\Local\\Temp\\ipykernel_18916\\2729677711.py:1: UserWarning: Parsing '22/10/2008' in DD/MM/YYYY format. Provide format or specify infer_datetime_format=True for consistent parsing.\n",
      "  df['Date']=ps.to_datetime(df['Date'])\n",
      "C:\\Users\\dchakrab.COMPUTACENTER\\AppData\\Local\\Temp\\ipykernel_18916\\2729677711.py:1: UserWarning: Parsing '24/11/2008' in DD/MM/YYYY format. Provide format or specify infer_datetime_format=True for consistent parsing.\n",
      "  df['Date']=ps.to_datetime(df['Date'])\n",
      "C:\\Users\\dchakrab.COMPUTACENTER\\AppData\\Local\\Temp\\ipykernel_18916\\2729677711.py:1: UserWarning: Parsing '15/12/2007' in DD/MM/YYYY format. Provide format or specify infer_datetime_format=True for consistent parsing.\n",
      "  df['Date']=ps.to_datetime(df['Date'])\n"
     ]
    }
   ],
   "source": [
    "df['Date']=ps.to_datetime(df['Date'])"
   ]
  },
  {
   "cell_type": "code",
   "execution_count": 138,
   "id": "922e9335",
   "metadata": {},
   "outputs": [],
   "source": [
    "df['Time']=ps.to_datetime(df['Time'])"
   ]
  },
  {
   "cell_type": "code",
   "execution_count": 139,
   "id": "20792b7d",
   "metadata": {},
   "outputs": [
    {
     "name": "stdout",
     "output_type": "stream",
     "text": [
      "<class 'pandas.core.frame.DataFrame'>\n",
      "RangeIndex: 50000 entries, 0 to 49999\n",
      "Data columns (total 9 columns):\n",
      " #   Column                 Non-Null Count  Dtype         \n",
      "---  ------                 --------------  -----         \n",
      " 0   Date                   50000 non-null  datetime64[ns]\n",
      " 1   Time                   50000 non-null  datetime64[ns]\n",
      " 2   Global_active_power    50000 non-null  object        \n",
      " 3   Global_reactive_power  50000 non-null  object        \n",
      " 4   Voltage                50000 non-null  object        \n",
      " 5   Global_intensity       50000 non-null  object        \n",
      " 6   Sub_metering_1         50000 non-null  object        \n",
      " 7   Sub_metering_2         50000 non-null  object        \n",
      " 8   Sub_metering_3         49368 non-null  float64       \n",
      "dtypes: datetime64[ns](2), float64(1), object(6)\n",
      "memory usage: 3.4+ MB\n"
     ]
    }
   ],
   "source": [
    "df.info()"
   ]
  },
  {
   "cell_type": "code",
   "execution_count": 140,
   "id": "7dc87dda",
   "metadata": {},
   "outputs": [
    {
     "data": {
      "text/plain": [
       "Index(['Date', 'Time', 'Global_active_power', 'Global_reactive_power',\n",
       "       'Voltage', 'Global_intensity', 'Sub_metering_1', 'Sub_metering_2',\n",
       "       'Sub_metering_3'],\n",
       "      dtype='object')"
      ]
     },
     "execution_count": 140,
     "metadata": {},
     "output_type": "execute_result"
    }
   ],
   "source": [
    "df.columns"
   ]
  },
  {
   "cell_type": "code",
   "execution_count": 42,
   "id": "851c3b1e",
   "metadata": {},
   "outputs": [],
   "source": [
    "### We need to convert object datatypes to numerics"
   ]
  },
  {
   "cell_type": "code",
   "execution_count": 144,
   "id": "8d93f4ae",
   "metadata": {},
   "outputs": [],
   "source": [
    "for fea in df.columns:\n",
    "    if df[fea].dtype=='O':\n",
    "        df[fea]=ps.to_numeric(df[fea])"
   ]
  },
  {
   "cell_type": "code",
   "execution_count": 145,
   "id": "e4febefc",
   "metadata": {},
   "outputs": [
    {
     "name": "stdout",
     "output_type": "stream",
     "text": [
      "<class 'pandas.core.frame.DataFrame'>\n",
      "RangeIndex: 50000 entries, 0 to 49999\n",
      "Data columns (total 9 columns):\n",
      " #   Column                 Non-Null Count  Dtype         \n",
      "---  ------                 --------------  -----         \n",
      " 0   Date                   50000 non-null  datetime64[ns]\n",
      " 1   Time                   50000 non-null  datetime64[ns]\n",
      " 2   Global_active_power    50000 non-null  float64       \n",
      " 3   Global_reactive_power  50000 non-null  float64       \n",
      " 4   Voltage                50000 non-null  float64       \n",
      " 5   Global_intensity       50000 non-null  float64       \n",
      " 6   Sub_metering_1         50000 non-null  float64       \n",
      " 7   Sub_metering_2         50000 non-null  float64       \n",
      " 8   Sub_metering_3         50000 non-null  float64       \n",
      "dtypes: datetime64[ns](2), float64(7)\n",
      "memory usage: 3.4 MB\n"
     ]
    }
   ],
   "source": [
    "df.info()"
   ]
  },
  {
   "cell_type": "code",
   "execution_count": 146,
   "id": "bb132f36",
   "metadata": {},
   "outputs": [
    {
     "data": {
      "text/html": [
       "<div>\n",
       "<style scoped>\n",
       "    .dataframe tbody tr th:only-of-type {\n",
       "        vertical-align: middle;\n",
       "    }\n",
       "\n",
       "    .dataframe tbody tr th {\n",
       "        vertical-align: top;\n",
       "    }\n",
       "\n",
       "    .dataframe thead th {\n",
       "        text-align: right;\n",
       "    }\n",
       "</style>\n",
       "<table border=\"1\" class=\"dataframe\">\n",
       "  <thead>\n",
       "    <tr style=\"text-align: right;\">\n",
       "      <th></th>\n",
       "      <th>count</th>\n",
       "      <th>mean</th>\n",
       "      <th>std</th>\n",
       "      <th>min</th>\n",
       "      <th>25%</th>\n",
       "      <th>50%</th>\n",
       "      <th>75%</th>\n",
       "      <th>max</th>\n",
       "    </tr>\n",
       "  </thead>\n",
       "  <tbody>\n",
       "    <tr>\n",
       "      <th>Global_active_power</th>\n",
       "      <td>50000.0</td>\n",
       "      <td>1.075417</td>\n",
       "      <td>1.057777</td>\n",
       "      <td>0.0</td>\n",
       "      <td>0.304</td>\n",
       "      <td>0.572</td>\n",
       "      <td>1.516</td>\n",
       "      <td>9.134</td>\n",
       "    </tr>\n",
       "    <tr>\n",
       "      <th>Global_reactive_power</th>\n",
       "      <td>50000.0</td>\n",
       "      <td>0.122689</td>\n",
       "      <td>0.114243</td>\n",
       "      <td>0.0</td>\n",
       "      <td>0.046</td>\n",
       "      <td>0.098</td>\n",
       "      <td>0.194</td>\n",
       "      <td>1.082</td>\n",
       "    </tr>\n",
       "    <tr>\n",
       "      <th>Voltage</th>\n",
       "      <td>50000.0</td>\n",
       "      <td>237.799407</td>\n",
       "      <td>27.097288</td>\n",
       "      <td>0.0</td>\n",
       "      <td>238.910</td>\n",
       "      <td>240.980</td>\n",
       "      <td>242.860</td>\n",
       "      <td>252.870</td>\n",
       "    </tr>\n",
       "    <tr>\n",
       "      <th>Global_intensity</th>\n",
       "      <td>50000.0</td>\n",
       "      <td>4.558800</td>\n",
       "      <td>4.444099</td>\n",
       "      <td>0.0</td>\n",
       "      <td>1.400</td>\n",
       "      <td>2.600</td>\n",
       "      <td>6.400</td>\n",
       "      <td>39.400</td>\n",
       "    </tr>\n",
       "    <tr>\n",
       "      <th>Sub_metering_1</th>\n",
       "      <td>50000.0</td>\n",
       "      <td>1.086660</td>\n",
       "      <td>6.029129</td>\n",
       "      <td>0.0</td>\n",
       "      <td>0.000</td>\n",
       "      <td>0.000</td>\n",
       "      <td>0.000</td>\n",
       "      <td>80.000</td>\n",
       "    </tr>\n",
       "    <tr>\n",
       "      <th>Sub_metering_2</th>\n",
       "      <td>50000.0</td>\n",
       "      <td>1.255560</td>\n",
       "      <td>5.762398</td>\n",
       "      <td>0.0</td>\n",
       "      <td>0.000</td>\n",
       "      <td>0.000</td>\n",
       "      <td>1.000</td>\n",
       "      <td>77.000</td>\n",
       "    </tr>\n",
       "    <tr>\n",
       "      <th>Sub_metering_3</th>\n",
       "      <td>50000.0</td>\n",
       "      <td>6.343720</td>\n",
       "      <td>8.402056</td>\n",
       "      <td>0.0</td>\n",
       "      <td>0.000</td>\n",
       "      <td>1.000</td>\n",
       "      <td>17.000</td>\n",
       "      <td>31.000</td>\n",
       "    </tr>\n",
       "  </tbody>\n",
       "</table>\n",
       "</div>"
      ],
      "text/plain": [
       "                         count        mean        std  min      25%      50%  \\\n",
       "Global_active_power    50000.0    1.075417   1.057777  0.0    0.304    0.572   \n",
       "Global_reactive_power  50000.0    0.122689   0.114243  0.0    0.046    0.098   \n",
       "Voltage                50000.0  237.799407  27.097288  0.0  238.910  240.980   \n",
       "Global_intensity       50000.0    4.558800   4.444099  0.0    1.400    2.600   \n",
       "Sub_metering_1         50000.0    1.086660   6.029129  0.0    0.000    0.000   \n",
       "Sub_metering_2         50000.0    1.255560   5.762398  0.0    0.000    0.000   \n",
       "Sub_metering_3         50000.0    6.343720   8.402056  0.0    0.000    1.000   \n",
       "\n",
       "                           75%      max  \n",
       "Global_active_power      1.516    9.134  \n",
       "Global_reactive_power    0.194    1.082  \n",
       "Voltage                242.860  252.870  \n",
       "Global_intensity         6.400   39.400  \n",
       "Sub_metering_1           0.000   80.000  \n",
       "Sub_metering_2           1.000   77.000  \n",
       "Sub_metering_3          17.000   31.000  "
      ]
     },
     "execution_count": 146,
     "metadata": {},
     "output_type": "execute_result"
    }
   ],
   "source": [
    "df.describe().T"
   ]
  },
  {
   "cell_type": "markdown",
   "id": "2f41f093",
   "metadata": {},
   "source": [
    "#### Now lets find out the total power consumption or the target feature of the dataset"
   ]
  },
  {
   "cell_type": "code",
   "execution_count": 147,
   "id": "54b51820",
   "metadata": {},
   "outputs": [],
   "source": [
    "tf = df['Global_active_power']*1000/60\n",
    "tp = df['Sub_metering_1']+df['Sub_metering_2']+df['Sub_metering_2']"
   ]
  },
  {
   "cell_type": "code",
   "execution_count": 148,
   "id": "97728932",
   "metadata": {},
   "outputs": [],
   "source": [
    "df['total_power_consumption']=tf-tp"
   ]
  },
  {
   "cell_type": "markdown",
   "id": "b8391ba4",
   "metadata": {},
   "source": [
    "#### Now lets group the total submetering value of the dataset"
   ]
  },
  {
   "cell_type": "code",
   "execution_count": 149,
   "id": "7288dee3",
   "metadata": {},
   "outputs": [],
   "source": [
    "df['Sub_metering']=df['Sub_metering_1']+df['Sub_metering_2']+df['Sub_metering_3']"
   ]
  },
  {
   "cell_type": "markdown",
   "id": "dd9697bf",
   "metadata": {},
   "source": [
    "#### Now Dropping the features sub_metering_1, sub_metering_2, sub_metering_3"
   ]
  },
  {
   "cell_type": "code",
   "execution_count": 150,
   "id": "841ff117",
   "metadata": {},
   "outputs": [],
   "source": [
    "df.drop(['Sub_metering_1','Sub_metering_2','Sub_metering_3'],inplace = True, axis = 1)"
   ]
  },
  {
   "cell_type": "code",
   "execution_count": 151,
   "id": "eed6843a",
   "metadata": {},
   "outputs": [
    {
     "data": {
      "text/html": [
       "<div>\n",
       "<style scoped>\n",
       "    .dataframe tbody tr th:only-of-type {\n",
       "        vertical-align: middle;\n",
       "    }\n",
       "\n",
       "    .dataframe tbody tr th {\n",
       "        vertical-align: top;\n",
       "    }\n",
       "\n",
       "    .dataframe thead th {\n",
       "        text-align: right;\n",
       "    }\n",
       "</style>\n",
       "<table border=\"1\" class=\"dataframe\">\n",
       "  <thead>\n",
       "    <tr style=\"text-align: right;\">\n",
       "      <th></th>\n",
       "      <th>Date</th>\n",
       "      <th>Time</th>\n",
       "      <th>Global_active_power</th>\n",
       "      <th>Global_reactive_power</th>\n",
       "      <th>Voltage</th>\n",
       "      <th>Global_intensity</th>\n",
       "      <th>total_power_consumption</th>\n",
       "      <th>Sub_metering</th>\n",
       "    </tr>\n",
       "  </thead>\n",
       "  <tbody>\n",
       "    <tr>\n",
       "      <th>0</th>\n",
       "      <td>2007-07-27</td>\n",
       "      <td>2022-11-16 10:25:00</td>\n",
       "      <td>0.196</td>\n",
       "      <td>0.074</td>\n",
       "      <td>234.17</td>\n",
       "      <td>0.8</td>\n",
       "      <td>3.266667</td>\n",
       "      <td>0.0</td>\n",
       "    </tr>\n",
       "    <tr>\n",
       "      <th>1</th>\n",
       "      <td>2010-08-28</td>\n",
       "      <td>2022-11-16 18:07:00</td>\n",
       "      <td>1.262</td>\n",
       "      <td>0.054</td>\n",
       "      <td>241.42</td>\n",
       "      <td>5.2</td>\n",
       "      <td>21.033333</td>\n",
       "      <td>18.0</td>\n",
       "    </tr>\n",
       "    <tr>\n",
       "      <th>2</th>\n",
       "      <td>2008-09-30</td>\n",
       "      <td>2022-11-16 00:48:00</td>\n",
       "      <td>0.344</td>\n",
       "      <td>0.076</td>\n",
       "      <td>242.46</td>\n",
       "      <td>1.6</td>\n",
       "      <td>5.733333</td>\n",
       "      <td>0.0</td>\n",
       "    </tr>\n",
       "    <tr>\n",
       "      <th>3</th>\n",
       "      <td>2009-12-10</td>\n",
       "      <td>2022-11-16 06:54:00</td>\n",
       "      <td>2.672</td>\n",
       "      <td>0.000</td>\n",
       "      <td>238.84</td>\n",
       "      <td>11.4</td>\n",
       "      <td>44.533333</td>\n",
       "      <td>18.0</td>\n",
       "    </tr>\n",
       "    <tr>\n",
       "      <th>4</th>\n",
       "      <td>2010-10-01</td>\n",
       "      <td>2022-11-16 23:56:00</td>\n",
       "      <td>0.254</td>\n",
       "      <td>0.000</td>\n",
       "      <td>250.22</td>\n",
       "      <td>1.0</td>\n",
       "      <td>4.233333</td>\n",
       "      <td>0.0</td>\n",
       "    </tr>\n",
       "  </tbody>\n",
       "</table>\n",
       "</div>"
      ],
      "text/plain": [
       "        Date                Time  Global_active_power  Global_reactive_power  \\\n",
       "0 2007-07-27 2022-11-16 10:25:00                0.196                  0.074   \n",
       "1 2010-08-28 2022-11-16 18:07:00                1.262                  0.054   \n",
       "2 2008-09-30 2022-11-16 00:48:00                0.344                  0.076   \n",
       "3 2009-12-10 2022-11-16 06:54:00                2.672                  0.000   \n",
       "4 2010-10-01 2022-11-16 23:56:00                0.254                  0.000   \n",
       "\n",
       "   Voltage  Global_intensity  total_power_consumption  Sub_metering  \n",
       "0   234.17               0.8                 3.266667           0.0  \n",
       "1   241.42               5.2                21.033333          18.0  \n",
       "2   242.46               1.6                 5.733333           0.0  \n",
       "3   238.84              11.4                44.533333          18.0  \n",
       "4   250.22               1.0                 4.233333           0.0  "
      ]
     },
     "execution_count": 151,
     "metadata": {},
     "output_type": "execute_result"
    }
   ],
   "source": [
    "df.head()"
   ]
  },
  {
   "cell_type": "code",
   "execution_count": null,
   "id": "29a8954f",
   "metadata": {},
   "outputs": [],
   "source": [
    "## Now we need to sepearte dependent and independent variables"
   ]
  },
  {
   "cell_type": "code",
   "execution_count": 152,
   "id": "5021d986",
   "metadata": {},
   "outputs": [],
   "source": [
    "X=df[['Global_active_power','Global_reactive_power','Voltage','Global_intensity']]"
   ]
  },
  {
   "cell_type": "code",
   "execution_count": 153,
   "id": "af219612",
   "metadata": {},
   "outputs": [],
   "source": [
    "y=df['total_power_consumption']"
   ]
  },
  {
   "cell_type": "markdown",
   "id": "af4a14db",
   "metadata": {},
   "source": [
    "### Now splitting training and test data"
   ]
  },
  {
   "cell_type": "code",
   "execution_count": 154,
   "id": "02ba4f5f",
   "metadata": {},
   "outputs": [],
   "source": [
    "from sklearn.model_selection import train_test_split,GridSearchCV"
   ]
  },
  {
   "cell_type": "code",
   "execution_count": 155,
   "id": "3661701a",
   "metadata": {},
   "outputs": [],
   "source": [
    "X_train,X_test,y_train,y_test=train_test_split(X,y,test_size=0.33,random_state=10)"
   ]
  },
  {
   "cell_type": "markdown",
   "id": "1fbde900",
   "metadata": {},
   "source": [
    "#### Importing Bagging Regressor"
   ]
  },
  {
   "cell_type": "code",
   "execution_count": 156,
   "id": "862d9aba",
   "metadata": {},
   "outputs": [],
   "source": [
    "from sklearn.ensemble import BaggingRegressor"
   ]
  },
  {
   "cell_type": "code",
   "execution_count": 157,
   "id": "d8bbfe2e",
   "metadata": {},
   "outputs": [],
   "source": [
    "bagging_reg = BaggingRegressor()"
   ]
  },
  {
   "cell_type": "code",
   "execution_count": null,
   "id": "d51b112b",
   "metadata": {},
   "outputs": [],
   "source": [
    "#### If base_estimator is none then by default base_estimator will be decision tree regression"
   ]
  },
  {
   "cell_type": "code",
   "execution_count": 158,
   "id": "8b4724ed",
   "metadata": {},
   "outputs": [
    {
     "data": {
      "text/plain": [
       "BaggingRegressor()"
      ]
     },
     "execution_count": 158,
     "metadata": {},
     "output_type": "execute_result"
    }
   ],
   "source": [
    "bagging_reg.fit(X_train,y_train)"
   ]
  },
  {
   "cell_type": "code",
   "execution_count": 159,
   "id": "35a893c7",
   "metadata": {},
   "outputs": [],
   "source": [
    "bag_reg_pred = bagging_reg.predict(X_test)"
   ]
  },
  {
   "cell_type": "code",
   "execution_count": 160,
   "id": "39d9aea1",
   "metadata": {},
   "outputs": [],
   "source": [
    "from sklearn.metrics import r2_score"
   ]
  },
  {
   "cell_type": "markdown",
   "id": "7ecc3c7e",
   "metadata": {},
   "source": [
    "### R2 Score for Bagging Regressor"
   ]
  },
  {
   "cell_type": "code",
   "execution_count": 161,
   "id": "c664d002",
   "metadata": {},
   "outputs": [
    {
     "data": {
      "text/plain": [
       "0.5827815413154552"
      ]
     },
     "execution_count": 161,
     "metadata": {},
     "output_type": "execute_result"
    }
   ],
   "source": [
    "r2_score(y_test,bag_reg_pred)"
   ]
  },
  {
   "cell_type": "code",
   "execution_count": 162,
   "id": "d76c482c",
   "metadata": {},
   "outputs": [],
   "source": [
    "bg_r2=r2_score(y_test,bag_reg_pred)"
   ]
  },
  {
   "cell_type": "code",
   "execution_count": null,
   "id": "f79c85cc",
   "metadata": {},
   "outputs": [],
   "source": [
    "Adjusted R2 score"
   ]
  },
  {
   "cell_type": "code",
   "execution_count": 163,
   "id": "98912533",
   "metadata": {},
   "outputs": [],
   "source": [
    "ajd_r2=1-(1-bg_r2)*(len(y_test)-1)/(len(y_test)-X_test.shape[1]-1)"
   ]
  },
  {
   "cell_type": "code",
   "execution_count": 164,
   "id": "32535008",
   "metadata": {},
   "outputs": [
    {
     "data": {
      "text/plain": [
       "0.5826803667877354"
      ]
     },
     "execution_count": 164,
     "metadata": {},
     "output_type": "execute_result"
    }
   ],
   "source": [
    "ajd_r2"
   ]
  },
  {
   "cell_type": "markdown",
   "id": "e76cdfb8",
   "metadata": {},
   "source": [
    "#### Importing RandomForest Regressor"
   ]
  },
  {
   "cell_type": "code",
   "execution_count": 40,
   "id": "449ba08a",
   "metadata": {},
   "outputs": [],
   "source": [
    "from sklearn.ensemble import RandomForestRegressor"
   ]
  },
  {
   "cell_type": "code",
   "execution_count": 165,
   "id": "9796342b",
   "metadata": {},
   "outputs": [],
   "source": [
    "Rf_reg = RandomForestRegressor()"
   ]
  },
  {
   "cell_type": "code",
   "execution_count": 166,
   "id": "039b7052",
   "metadata": {},
   "outputs": [
    {
     "data": {
      "text/plain": [
       "RandomForestRegressor()"
      ]
     },
     "execution_count": 166,
     "metadata": {},
     "output_type": "execute_result"
    }
   ],
   "source": [
    "Rf_reg.fit(X_train,y_train)"
   ]
  },
  {
   "cell_type": "code",
   "execution_count": 167,
   "id": "4fd9803e",
   "metadata": {},
   "outputs": [],
   "source": [
    "Rf_reg_pred = Rf_reg.predict(X_test)"
   ]
  },
  {
   "cell_type": "code",
   "execution_count": 168,
   "id": "25d5e7d3",
   "metadata": {},
   "outputs": [
    {
     "data": {
      "text/plain": [
       "array([ 3.238     ,  0.        ,  2.332     , ..., 23.93033333,\n",
       "        4.65066667, 33.49666667])"
      ]
     },
     "execution_count": 168,
     "metadata": {},
     "output_type": "execute_result"
    }
   ],
   "source": [
    "Rf_reg_pred"
   ]
  },
  {
   "cell_type": "code",
   "execution_count": 45,
   "id": "825dc114",
   "metadata": {},
   "outputs": [
    {
     "data": {
      "text/plain": [
       "0.6120228988119982"
      ]
     },
     "execution_count": 45,
     "metadata": {},
     "output_type": "execute_result"
    }
   ],
   "source": [
    "r2_score(y_test,Rf_reg_pred)"
   ]
  },
  {
   "cell_type": "markdown",
   "id": "ad5cda3f",
   "metadata": {},
   "source": [
    "#### HyperParameter Tunning"
   ]
  },
  {
   "cell_type": "code",
   "execution_count": 179,
   "id": "138c6214",
   "metadata": {},
   "outputs": [],
   "source": [
    "params={\n",
    "    \"n_estimators\":[15,10,50],\n",
    "    \"max_samples\": range(2,10,1),\n",
    "    \"max_features\":range(2,10,3)\n",
    "}"
   ]
  },
  {
   "cell_type": "code",
   "execution_count": 170,
   "id": "db6e83b3",
   "metadata": {},
   "outputs": [],
   "source": [
    "grid_search=GridSearchCV(estimator=bagging_reg,param_grid=params,cv=3,verbose=2,n_jobs=-1)"
   ]
  },
  {
   "cell_type": "code",
   "execution_count": 171,
   "id": "bd38ab0d",
   "metadata": {},
   "outputs": [
    {
     "name": "stdout",
     "output_type": "stream",
     "text": [
      "Fitting 3 folds for each of 192 candidates, totalling 576 fits\n"
     ]
    },
    {
     "name": "stderr",
     "output_type": "stream",
     "text": [
      "C:\\Users\\dchakrab.COMPUTACENTER\\Anaconda3\\lib\\site-packages\\sklearn\\model_selection\\_validation.py:372: FitFailedWarning: \n",
      "360 fits failed out of a total of 576.\n",
      "The score on these train-test partitions for these parameters will be set to nan.\n",
      "If these failures are not expected, you can try to debug them by setting error_score='raise'.\n",
      "\n",
      "Below are more details about the failures:\n",
      "--------------------------------------------------------------------------------\n",
      "360 fits failed with the following error:\n",
      "Traceback (most recent call last):\n",
      "  File \"C:\\Users\\dchakrab.COMPUTACENTER\\Anaconda3\\lib\\site-packages\\sklearn\\model_selection\\_validation.py\", line 680, in _fit_and_score\n",
      "    estimator.fit(X_train, y_train, **fit_params)\n",
      "  File \"C:\\Users\\dchakrab.COMPUTACENTER\\Anaconda3\\lib\\site-packages\\sklearn\\ensemble\\_bagging.py\", line 269, in fit\n",
      "    return self._fit(X, y, self.max_samples, sample_weight=sample_weight)\n",
      "  File \"C:\\Users\\dchakrab.COMPUTACENTER\\Anaconda3\\lib\\site-packages\\sklearn\\ensemble\\_bagging.py\", line 342, in _fit\n",
      "    raise ValueError(\"max_features must be in (0, n_features]\")\n",
      "ValueError: max_features must be in (0, n_features]\n",
      "\n",
      "  warnings.warn(some_fits_failed_message, FitFailedWarning)\n",
      "C:\\Users\\dchakrab.COMPUTACENTER\\Anaconda3\\lib\\site-packages\\sklearn\\model_selection\\_search.py:969: UserWarning: One or more of the test scores are non-finite: [0.12261613 0.10920403 0.15430758 0.29185866 0.35704752 0.38666573\n",
      " 0.30732648 0.43241715 0.45068357 0.47730464 0.47881958 0.4798144\n",
      " 0.4888225  0.50385742 0.49549673 0.48378782 0.47466762 0.50582147\n",
      " 0.46287459 0.45900814 0.50752141 0.53947397 0.5225674  0.55084463\n",
      " 0.17119752 0.28639098 0.23361766 0.35431587 0.07261853 0.37541284\n",
      " 0.40812943 0.32364285 0.43949189 0.45876484 0.50768778 0.49503054\n",
      " 0.53031797 0.44922221 0.52192845 0.55176964 0.51918405 0.54639093\n",
      " 0.55824366 0.53102763 0.5565214  0.53503652 0.48989147 0.5651587\n",
      " 0.23543669 0.2128588  0.17564572 0.25999487 0.30929204 0.37686417\n",
      " 0.44701968 0.32135877 0.43365377 0.4765492  0.42697789 0.46688385\n",
      " 0.49863488 0.55913011 0.52069312 0.53478557 0.48143757 0.53585741\n",
      " 0.54205212 0.52178857 0.55426885 0.55151967 0.51303292 0.55255742\n",
      "        nan        nan        nan        nan        nan        nan\n",
      "        nan        nan        nan        nan        nan        nan\n",
      "        nan        nan        nan        nan        nan        nan\n",
      "        nan        nan        nan        nan        nan        nan\n",
      "        nan        nan        nan        nan        nan        nan\n",
      "        nan        nan        nan        nan        nan        nan\n",
      "        nan        nan        nan        nan        nan        nan\n",
      "        nan        nan        nan        nan        nan        nan\n",
      "        nan        nan        nan        nan        nan        nan\n",
      "        nan        nan        nan        nan        nan        nan\n",
      "        nan        nan        nan        nan        nan        nan\n",
      "        nan        nan        nan        nan        nan        nan\n",
      "        nan        nan        nan        nan        nan        nan\n",
      "        nan        nan        nan        nan        nan        nan\n",
      "        nan        nan        nan        nan        nan        nan\n",
      "        nan        nan        nan        nan        nan        nan\n",
      "        nan        nan        nan        nan        nan        nan\n",
      "        nan        nan        nan        nan        nan        nan\n",
      "        nan        nan        nan        nan        nan        nan\n",
      "        nan        nan        nan        nan        nan        nan]\n",
      "  warnings.warn(\n"
     ]
    },
    {
     "data": {
      "text/plain": [
       "GridSearchCV(cv=3, estimator=BaggingRegressor(), n_jobs=-1,\n",
       "             param_grid={'max_features': range(2, 10),\n",
       "                         'max_samples': range(2, 10),\n",
       "                         'n_estimators': [15, 10, 50]},\n",
       "             verbose=2)"
      ]
     },
     "execution_count": 171,
     "metadata": {},
     "output_type": "execute_result"
    }
   ],
   "source": [
    "grid_search.fit(X_train,y_train)"
   ]
  },
  {
   "cell_type": "code",
   "execution_count": 172,
   "id": "0b3fd694",
   "metadata": {},
   "outputs": [
    {
     "data": {
      "text/plain": [
       "{'max_features': 3, 'max_samples': 9, 'n_estimators': 50}"
      ]
     },
     "execution_count": 172,
     "metadata": {},
     "output_type": "execute_result"
    }
   ],
   "source": [
    "grid_search.best_params_"
   ]
  },
  {
   "cell_type": "code",
   "execution_count": 173,
   "id": "7ff62579",
   "metadata": {},
   "outputs": [],
   "source": [
    "bag_model_with_best_params= BaggingRegressor(n_estimators= 50, max_features = 3, max_samples = 9)"
   ]
  },
  {
   "cell_type": "code",
   "execution_count": 174,
   "id": "78f3c642",
   "metadata": {},
   "outputs": [
    {
     "data": {
      "text/plain": [
       "BaggingRegressor(max_features=3, max_samples=9, n_estimators=50)"
      ]
     },
     "execution_count": 174,
     "metadata": {},
     "output_type": "execute_result"
    }
   ],
   "source": [
    "bag_model_with_best_params.fit(X_train,y_train)"
   ]
  },
  {
   "cell_type": "code",
   "execution_count": 175,
   "id": "ec9ec84f",
   "metadata": {},
   "outputs": [],
   "source": [
    "bag_y_predict = bag_model_with_best_params.predict(X_test)"
   ]
  },
  {
   "cell_type": "code",
   "execution_count": 176,
   "id": "0650d7fd",
   "metadata": {},
   "outputs": [
    {
     "data": {
      "text/plain": [
       "array([ 5.45      ,  4.84133333,  3.976     , ..., 23.69733333,\n",
       "        5.63466667, 27.33733333])"
      ]
     },
     "execution_count": 176,
     "metadata": {},
     "output_type": "execute_result"
    }
   ],
   "source": [
    "bag_y_predict"
   ]
  },
  {
   "cell_type": "code",
   "execution_count": 177,
   "id": "e2f78105",
   "metadata": {},
   "outputs": [],
   "source": [
    "bag_model_r2_score = r2_score(y_test,bag_y_predict)"
   ]
  },
  {
   "cell_type": "markdown",
   "id": "d9c5bcb3",
   "metadata": {},
   "source": [
    "#### Post Hyper Parameter Tunning Bag Model R2 Score"
   ]
  },
  {
   "cell_type": "code",
   "execution_count": 178,
   "id": "a6e3ff36",
   "metadata": {},
   "outputs": [
    {
     "data": {
      "text/plain": [
       "0.5861105872145973"
      ]
     },
     "execution_count": 178,
     "metadata": {},
     "output_type": "execute_result"
    }
   ],
   "source": [
    "bag_model_r2_score"
   ]
  },
  {
   "cell_type": "markdown",
   "id": "bbd4284e",
   "metadata": {},
   "source": [
    "#### Post Hyper Parameter Tunning  Bag Model Adjusted R2 score"
   ]
  },
  {
   "cell_type": "code",
   "execution_count": 180,
   "id": "37d8e28b",
   "metadata": {},
   "outputs": [],
   "source": [
    "adj_r2_score = 1-(1-bag_model_r2_score)*(len(y_test)-1)/(len(y_test)-X_test.shape[1]-1)"
   ]
  },
  {
   "cell_type": "code",
   "execution_count": 181,
   "id": "47937bc4",
   "metadata": {},
   "outputs": [
    {
     "data": {
      "text/plain": [
       "0.5860102199729398"
      ]
     },
     "execution_count": 181,
     "metadata": {},
     "output_type": "execute_result"
    }
   ],
   "source": [
    "adj_r2_score"
   ]
  },
  {
   "cell_type": "markdown",
   "id": "2db917d1",
   "metadata": {},
   "source": [
    "### Extra Tree Regressor"
   ]
  },
  {
   "cell_type": "code",
   "execution_count": 62,
   "id": "d49c03be",
   "metadata": {},
   "outputs": [],
   "source": [
    "from sklearn.ensemble import ExtraTreesRegressor"
   ]
  },
  {
   "cell_type": "code",
   "execution_count": 63,
   "id": "41d5ae2a",
   "metadata": {},
   "outputs": [],
   "source": [
    "ext_reg= ExtraTreesRegressor()"
   ]
  },
  {
   "cell_type": "code",
   "execution_count": 64,
   "id": "6007c00c",
   "metadata": {},
   "outputs": [
    {
     "data": {
      "text/plain": [
       "ExtraTreesRegressor()"
      ]
     },
     "execution_count": 64,
     "metadata": {},
     "output_type": "execute_result"
    }
   ],
   "source": [
    "ext_reg.fit(X_train, y_train)"
   ]
  },
  {
   "cell_type": "code",
   "execution_count": 65,
   "id": "933b3594",
   "metadata": {},
   "outputs": [
    {
     "data": {
      "text/plain": [
       "array([ 3.34166667,  0.        ,  2.401     , ..., 23.31933333,\n",
       "        4.393     , 33.77866667])"
      ]
     },
     "execution_count": 65,
     "metadata": {},
     "output_type": "execute_result"
    }
   ],
   "source": [
    "ext_reg.predict(X_test)"
   ]
  },
  {
   "cell_type": "code",
   "execution_count": 66,
   "id": "7a012868",
   "metadata": {},
   "outputs": [],
   "source": [
    "ext_reg_pred = ext_reg.predict(X_test)"
   ]
  },
  {
   "cell_type": "markdown",
   "id": "425ff625",
   "metadata": {},
   "source": [
    "### R2 Score on extra tree regressor"
   ]
  },
  {
   "cell_type": "code",
   "execution_count": 69,
   "id": "9594f381",
   "metadata": {},
   "outputs": [],
   "source": [
    "ext_tree_r2_score=r2_score(ext_reg_pred,y_test)"
   ]
  },
  {
   "cell_type": "code",
   "execution_count": 70,
   "id": "30fd3de4",
   "metadata": {},
   "outputs": [
    {
     "data": {
      "text/plain": [
       "0.40551039138706557"
      ]
     },
     "execution_count": 70,
     "metadata": {},
     "output_type": "execute_result"
    }
   ],
   "source": [
    "ext_tree_r2_score"
   ]
  },
  {
   "cell_type": "markdown",
   "id": "4f13e1ea",
   "metadata": {},
   "source": [
    "### Adjusted R2 Score on Extra Tree Regressor"
   ]
  },
  {
   "cell_type": "code",
   "execution_count": 71,
   "id": "8494e7de",
   "metadata": {},
   "outputs": [],
   "source": [
    "ext_tree_adj_r2_score=1-(1-ext_tree_r2_score)*(len(y_test)-1)/(len(y_test)-X_test.shape[1]-1)"
   ]
  },
  {
   "cell_type": "code",
   "execution_count": 72,
   "id": "7a4a5b3a",
   "metadata": {},
   "outputs": [
    {
     "data": {
      "text/plain": [
       "0.40536622900849917"
      ]
     },
     "execution_count": 72,
     "metadata": {},
     "output_type": "execute_result"
    }
   ],
   "source": [
    "ext_tree_adj_r2_score"
   ]
  },
  {
   "cell_type": "markdown",
   "id": "89cf0f7c",
   "metadata": {},
   "source": [
    "### Voting Regressor"
   ]
  },
  {
   "cell_type": "code",
   "execution_count": 182,
   "id": "3b0ad97c",
   "metadata": {},
   "outputs": [],
   "source": [
    "from sklearn.ensemble import VotingRegressor"
   ]
  },
  {
   "cell_type": "code",
   "execution_count": 183,
   "id": "bdb6fa6c",
   "metadata": {},
   "outputs": [],
   "source": [
    "rf = RandomForestRegressor(n_estimators=350,random_state=3)\n",
    "et = ExtraTreesRegressor(n_estimators=100,random_state=3)\n",
    "vt_reg= VotingRegressor([('rf', rf),('et',et)])"
   ]
  },
  {
   "cell_type": "code",
   "execution_count": 184,
   "id": "64b6eab7",
   "metadata": {},
   "outputs": [
    {
     "data": {
      "text/plain": [
       "VotingRegressor(estimators=[('rf',\n",
       "                             RandomForestRegressor(n_estimators=350,\n",
       "                                                   random_state=3)),\n",
       "                            ('et', ExtraTreesRegressor(random_state=3))])"
      ]
     },
     "execution_count": 184,
     "metadata": {},
     "output_type": "execute_result"
    }
   ],
   "source": [
    "vt_reg.fit(X_train,y_train)"
   ]
  },
  {
   "cell_type": "code",
   "execution_count": 185,
   "id": "b3b08511",
   "metadata": {},
   "outputs": [
    {
     "data": {
      "text/plain": [
       "array([ 3.15071429,  0.        ,  2.39333333, ..., 23.76378571,\n",
       "        4.54109524, 33.12483333])"
      ]
     },
     "execution_count": 185,
     "metadata": {},
     "output_type": "execute_result"
    }
   ],
   "source": [
    "vt_reg.predict(X_test)"
   ]
  },
  {
   "cell_type": "code",
   "execution_count": 186,
   "id": "0b45da2f",
   "metadata": {},
   "outputs": [],
   "source": [
    "vt_pred = vt_reg.predict(X_test)"
   ]
  },
  {
   "cell_type": "markdown",
   "id": "07e000d5",
   "metadata": {},
   "source": [
    "#### R2 Score"
   ]
  },
  {
   "cell_type": "code",
   "execution_count": 187,
   "id": "49d6a5a1",
   "metadata": {},
   "outputs": [],
   "source": [
    "vt_r2_score = r2_score(vt_pred,y_test)"
   ]
  },
  {
   "cell_type": "code",
   "execution_count": 188,
   "id": "b9d65655",
   "metadata": {},
   "outputs": [
    {
     "data": {
      "text/plain": [
       "0.41150925325029897"
      ]
     },
     "execution_count": 188,
     "metadata": {},
     "output_type": "execute_result"
    }
   ],
   "source": [
    "vt_r2_score"
   ]
  },
  {
   "cell_type": "markdown",
   "id": "d23b3101",
   "metadata": {},
   "source": [
    "#### Adjusted R2 Score"
   ]
  },
  {
   "cell_type": "code",
   "execution_count": 189,
   "id": "c1a71035",
   "metadata": {},
   "outputs": [],
   "source": [
    "adj_vt_r2_score = 1-(1-vt_r2_score)*(len(y_test)-1)/(len(y_test)-X_test.shape[1]-1)"
   ]
  },
  {
   "cell_type": "code",
   "execution_count": 190,
   "id": "7dc16c43",
   "metadata": {},
   "outputs": [
    {
     "data": {
      "text/plain": [
       "0.4113665455820965"
      ]
     },
     "execution_count": 190,
     "metadata": {},
     "output_type": "execute_result"
    }
   ],
   "source": [
    "adj_vt_r2_score"
   ]
  },
  {
   "cell_type": "code",
   "execution_count": null,
   "id": "17f219dd",
   "metadata": {},
   "outputs": [],
   "source": []
  }
 ],
 "metadata": {
  "kernelspec": {
   "display_name": "Python 3 (ipykernel)",
   "language": "python",
   "name": "python3"
  },
  "language_info": {
   "codemirror_mode": {
    "name": "ipython",
    "version": 3
   },
   "file_extension": ".py",
   "mimetype": "text/x-python",
   "name": "python",
   "nbconvert_exporter": "python",
   "pygments_lexer": "ipython3",
   "version": "3.9.12"
  }
 },
 "nbformat": 4,
 "nbformat_minor": 5
}
